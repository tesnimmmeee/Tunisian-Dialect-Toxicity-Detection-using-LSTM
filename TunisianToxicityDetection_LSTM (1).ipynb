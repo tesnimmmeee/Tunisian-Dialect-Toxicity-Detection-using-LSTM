{
  "cells": [
    {
      "cell_type": "code",
      "execution_count": 1,
      "id": "KYjVSwwoz8ow",
      "metadata": {
        "id": "KYjVSwwoz8ow"
      },
      "outputs": [],
      "source": [
        "import tensorflow\n",
        "import numpy as np\n",
        "import pandas as pd\n",
        "\n",
        "# text processing libraries\n",
        "import re\n",
        "import string\n",
        "import nltk\n",
        "from nltk.corpus import stopwords\n",
        "\n",
        "# matplotlib and seaborn for plotting\n",
        "import matplotlib.pyplot as plt\n",
        "import seaborn as sns\n",
        "\n",
        "import warnings\n",
        "warnings.filterwarnings(\"ignore\")\n"
      ]
    },
    {
      "cell_type": "markdown",
      "id": "emI4l3sdz8pD",
      "metadata": {
        "id": "emI4l3sdz8pD"
      },
      "source": [
        "# Uploading train set and test set"
      ]
    },
    {
      "cell_type": "code",
      "execution_count": 2,
      "id": "e2J9KaQZ0kG1",
      "metadata": {
        "colab": {
          "base_uri": "https://localhost:8080/"
        },
        "id": "e2J9KaQZ0kG1",
        "outputId": "fffc6813-2fd7-4071-87a0-e76715dcb032"
      },
      "outputs": [
        {
          "output_type": "stream",
          "name": "stdout",
          "text": [
            "Drive already mounted at /content/drive; to attempt to forcibly remount, call drive.mount(\"/content/drive\", force_remount=True).\n"
          ]
        }
      ],
      "source": [
        "from google.colab import drive\n",
        "drive.mount('/content/drive')"
      ]
    },
    {
      "cell_type": "code",
      "execution_count": 3,
      "id": "xl6SpE7mz8pL",
      "metadata": {
        "colab": {
          "base_uri": "https://localhost:8080/",
          "height": 206
        },
        "id": "xl6SpE7mz8pL",
        "outputId": "3781b5ec-8bb6-4e17-c852-0d80ac68974f"
      },
      "outputs": [
        {
          "output_type": "execute_result",
          "data": {
            "text/plain": [
              "                                                text  label\n",
              "0                                        ماسيت لاسيت      1\n",
              "1  بالاهي علاش شبيها رزينا انترنت كل يوم يقصلي مد...      1\n",
              "2  yarhmou babah mai 3ana erjel wa3lihoum leklem ...      0\n",
              "3  تكره زك ال خامج يا ناتن تو انتم رابارة يا فرات...      1\n",
              "4  mabrouk entisar nahna 3ach efri9i 3ach cha3bha...      0"
            ],
            "text/html": [
              "\n",
              "  <div id=\"df-f22174d3-7927-4b51-8573-7d8e3aa7a8be\" class=\"colab-df-container\">\n",
              "    <div>\n",
              "<style scoped>\n",
              "    .dataframe tbody tr th:only-of-type {\n",
              "        vertical-align: middle;\n",
              "    }\n",
              "\n",
              "    .dataframe tbody tr th {\n",
              "        vertical-align: top;\n",
              "    }\n",
              "\n",
              "    .dataframe thead th {\n",
              "        text-align: right;\n",
              "    }\n",
              "</style>\n",
              "<table border=\"1\" class=\"dataframe\">\n",
              "  <thead>\n",
              "    <tr style=\"text-align: right;\">\n",
              "      <th></th>\n",
              "      <th>text</th>\n",
              "      <th>label</th>\n",
              "    </tr>\n",
              "  </thead>\n",
              "  <tbody>\n",
              "    <tr>\n",
              "      <th>0</th>\n",
              "      <td>ماسيت لاسيت</td>\n",
              "      <td>1</td>\n",
              "    </tr>\n",
              "    <tr>\n",
              "      <th>1</th>\n",
              "      <td>بالاهي علاش شبيها رزينا انترنت كل يوم يقصلي مد...</td>\n",
              "      <td>1</td>\n",
              "    </tr>\n",
              "    <tr>\n",
              "      <th>2</th>\n",
              "      <td>yarhmou babah mai 3ana erjel wa3lihoum leklem ...</td>\n",
              "      <td>0</td>\n",
              "    </tr>\n",
              "    <tr>\n",
              "      <th>3</th>\n",
              "      <td>تكره زك ال خامج يا ناتن تو انتم رابارة يا فرات...</td>\n",
              "      <td>1</td>\n",
              "    </tr>\n",
              "    <tr>\n",
              "      <th>4</th>\n",
              "      <td>mabrouk entisar nahna 3ach efri9i 3ach cha3bha...</td>\n",
              "      <td>0</td>\n",
              "    </tr>\n",
              "  </tbody>\n",
              "</table>\n",
              "</div>\n",
              "    <div class=\"colab-df-buttons\">\n",
              "\n",
              "  <div class=\"colab-df-container\">\n",
              "    <button class=\"colab-df-convert\" onclick=\"convertToInteractive('df-f22174d3-7927-4b51-8573-7d8e3aa7a8be')\"\n",
              "            title=\"Convert this dataframe to an interactive table.\"\n",
              "            style=\"display:none;\">\n",
              "\n",
              "  <svg xmlns=\"http://www.w3.org/2000/svg\" height=\"24px\" viewBox=\"0 -960 960 960\">\n",
              "    <path d=\"M120-120v-720h720v720H120Zm60-500h600v-160H180v160Zm220 220h160v-160H400v160Zm0 220h160v-160H400v160ZM180-400h160v-160H180v160Zm440 0h160v-160H620v160ZM180-180h160v-160H180v160Zm440 0h160v-160H620v160Z\"/>\n",
              "  </svg>\n",
              "    </button>\n",
              "\n",
              "  <style>\n",
              "    .colab-df-container {\n",
              "      display:flex;\n",
              "      gap: 12px;\n",
              "    }\n",
              "\n",
              "    .colab-df-convert {\n",
              "      background-color: #E8F0FE;\n",
              "      border: none;\n",
              "      border-radius: 50%;\n",
              "      cursor: pointer;\n",
              "      display: none;\n",
              "      fill: #1967D2;\n",
              "      height: 32px;\n",
              "      padding: 0 0 0 0;\n",
              "      width: 32px;\n",
              "    }\n",
              "\n",
              "    .colab-df-convert:hover {\n",
              "      background-color: #E2EBFA;\n",
              "      box-shadow: 0px 1px 2px rgba(60, 64, 67, 0.3), 0px 1px 3px 1px rgba(60, 64, 67, 0.15);\n",
              "      fill: #174EA6;\n",
              "    }\n",
              "\n",
              "    .colab-df-buttons div {\n",
              "      margin-bottom: 4px;\n",
              "    }\n",
              "\n",
              "    [theme=dark] .colab-df-convert {\n",
              "      background-color: #3B4455;\n",
              "      fill: #D2E3FC;\n",
              "    }\n",
              "\n",
              "    [theme=dark] .colab-df-convert:hover {\n",
              "      background-color: #434B5C;\n",
              "      box-shadow: 0px 1px 3px 1px rgba(0, 0, 0, 0.15);\n",
              "      filter: drop-shadow(0px 1px 2px rgba(0, 0, 0, 0.3));\n",
              "      fill: #FFFFFF;\n",
              "    }\n",
              "  </style>\n",
              "\n",
              "    <script>\n",
              "      const buttonEl =\n",
              "        document.querySelector('#df-f22174d3-7927-4b51-8573-7d8e3aa7a8be button.colab-df-convert');\n",
              "      buttonEl.style.display =\n",
              "        google.colab.kernel.accessAllowed ? 'block' : 'none';\n",
              "\n",
              "      async function convertToInteractive(key) {\n",
              "        const element = document.querySelector('#df-f22174d3-7927-4b51-8573-7d8e3aa7a8be');\n",
              "        const dataTable =\n",
              "          await google.colab.kernel.invokeFunction('convertToInteractive',\n",
              "                                                    [key], {});\n",
              "        if (!dataTable) return;\n",
              "\n",
              "        const docLinkHtml = 'Like what you see? Visit the ' +\n",
              "          '<a target=\"_blank\" href=https://colab.research.google.com/notebooks/data_table.ipynb>data table notebook</a>'\n",
              "          + ' to learn more about interactive tables.';\n",
              "        element.innerHTML = '';\n",
              "        dataTable['output_type'] = 'display_data';\n",
              "        await google.colab.output.renderOutput(dataTable, element);\n",
              "        const docLink = document.createElement('div');\n",
              "        docLink.innerHTML = docLinkHtml;\n",
              "        element.appendChild(docLink);\n",
              "      }\n",
              "    </script>\n",
              "  </div>\n",
              "\n",
              "\n",
              "<div id=\"df-6bae8618-dba8-4c78-a7e2-b286d8f12e22\">\n",
              "  <button class=\"colab-df-quickchart\" onclick=\"quickchart('df-6bae8618-dba8-4c78-a7e2-b286d8f12e22')\"\n",
              "            title=\"Suggest charts\"\n",
              "            style=\"display:none;\">\n",
              "\n",
              "<svg xmlns=\"http://www.w3.org/2000/svg\" height=\"24px\"viewBox=\"0 0 24 24\"\n",
              "     width=\"24px\">\n",
              "    <g>\n",
              "        <path d=\"M19 3H5c-1.1 0-2 .9-2 2v14c0 1.1.9 2 2 2h14c1.1 0 2-.9 2-2V5c0-1.1-.9-2-2-2zM9 17H7v-7h2v7zm4 0h-2V7h2v10zm4 0h-2v-4h2v4z\"/>\n",
              "    </g>\n",
              "</svg>\n",
              "  </button>\n",
              "\n",
              "<style>\n",
              "  .colab-df-quickchart {\n",
              "      --bg-color: #E8F0FE;\n",
              "      --fill-color: #1967D2;\n",
              "      --hover-bg-color: #E2EBFA;\n",
              "      --hover-fill-color: #174EA6;\n",
              "      --disabled-fill-color: #AAA;\n",
              "      --disabled-bg-color: #DDD;\n",
              "  }\n",
              "\n",
              "  [theme=dark] .colab-df-quickchart {\n",
              "      --bg-color: #3B4455;\n",
              "      --fill-color: #D2E3FC;\n",
              "      --hover-bg-color: #434B5C;\n",
              "      --hover-fill-color: #FFFFFF;\n",
              "      --disabled-bg-color: #3B4455;\n",
              "      --disabled-fill-color: #666;\n",
              "  }\n",
              "\n",
              "  .colab-df-quickchart {\n",
              "    background-color: var(--bg-color);\n",
              "    border: none;\n",
              "    border-radius: 50%;\n",
              "    cursor: pointer;\n",
              "    display: none;\n",
              "    fill: var(--fill-color);\n",
              "    height: 32px;\n",
              "    padding: 0;\n",
              "    width: 32px;\n",
              "  }\n",
              "\n",
              "  .colab-df-quickchart:hover {\n",
              "    background-color: var(--hover-bg-color);\n",
              "    box-shadow: 0 1px 2px rgba(60, 64, 67, 0.3), 0 1px 3px 1px rgba(60, 64, 67, 0.15);\n",
              "    fill: var(--button-hover-fill-color);\n",
              "  }\n",
              "\n",
              "  .colab-df-quickchart-complete:disabled,\n",
              "  .colab-df-quickchart-complete:disabled:hover {\n",
              "    background-color: var(--disabled-bg-color);\n",
              "    fill: var(--disabled-fill-color);\n",
              "    box-shadow: none;\n",
              "  }\n",
              "\n",
              "  .colab-df-spinner {\n",
              "    border: 2px solid var(--fill-color);\n",
              "    border-color: transparent;\n",
              "    border-bottom-color: var(--fill-color);\n",
              "    animation:\n",
              "      spin 1s steps(1) infinite;\n",
              "  }\n",
              "\n",
              "  @keyframes spin {\n",
              "    0% {\n",
              "      border-color: transparent;\n",
              "      border-bottom-color: var(--fill-color);\n",
              "      border-left-color: var(--fill-color);\n",
              "    }\n",
              "    20% {\n",
              "      border-color: transparent;\n",
              "      border-left-color: var(--fill-color);\n",
              "      border-top-color: var(--fill-color);\n",
              "    }\n",
              "    30% {\n",
              "      border-color: transparent;\n",
              "      border-left-color: var(--fill-color);\n",
              "      border-top-color: var(--fill-color);\n",
              "      border-right-color: var(--fill-color);\n",
              "    }\n",
              "    40% {\n",
              "      border-color: transparent;\n",
              "      border-right-color: var(--fill-color);\n",
              "      border-top-color: var(--fill-color);\n",
              "    }\n",
              "    60% {\n",
              "      border-color: transparent;\n",
              "      border-right-color: var(--fill-color);\n",
              "    }\n",
              "    80% {\n",
              "      border-color: transparent;\n",
              "      border-right-color: var(--fill-color);\n",
              "      border-bottom-color: var(--fill-color);\n",
              "    }\n",
              "    90% {\n",
              "      border-color: transparent;\n",
              "      border-bottom-color: var(--fill-color);\n",
              "    }\n",
              "  }\n",
              "</style>\n",
              "\n",
              "  <script>\n",
              "    async function quickchart(key) {\n",
              "      const quickchartButtonEl =\n",
              "        document.querySelector('#' + key + ' button');\n",
              "      quickchartButtonEl.disabled = true;  // To prevent multiple clicks.\n",
              "      quickchartButtonEl.classList.add('colab-df-spinner');\n",
              "      try {\n",
              "        const charts = await google.colab.kernel.invokeFunction(\n",
              "            'suggestCharts', [key], {});\n",
              "      } catch (error) {\n",
              "        console.error('Error during call to suggestCharts:', error);\n",
              "      }\n",
              "      quickchartButtonEl.classList.remove('colab-df-spinner');\n",
              "      quickchartButtonEl.classList.add('colab-df-quickchart-complete');\n",
              "    }\n",
              "    (() => {\n",
              "      let quickchartButtonEl =\n",
              "        document.querySelector('#df-6bae8618-dba8-4c78-a7e2-b286d8f12e22 button');\n",
              "      quickchartButtonEl.style.display =\n",
              "        google.colab.kernel.accessAllowed ? 'block' : 'none';\n",
              "    })();\n",
              "  </script>\n",
              "</div>\n",
              "    </div>\n",
              "  </div>\n"
            ],
            "application/vnd.google.colaboratory.intrinsic+json": {
              "type": "dataframe",
              "variable_name": "data"
            }
          },
          "metadata": {},
          "execution_count": 3
        }
      ],
      "source": [
        "#Importing data\n",
        "data = pd.read_csv('/content/drive/MyDrive/Colab Notebooks/MixedTunToxDataset.csv')\n",
        "data.head()"
      ]
    },
    {
      "cell_type": "code",
      "execution_count": 4,
      "id": "kg50unuh3mGE",
      "metadata": {
        "id": "kg50unuh3mGE"
      },
      "outputs": [],
      "source": [
        "#Splitting Data\n",
        "from sklearn.model_selection import train_test_split\n",
        "X=data.drop('label', axis=1)\n",
        "y=data['label']\n",
        "X_train, X_test, y_train, y_test = train_test_split(X, y, test_size=0.2, random_state=42)"
      ]
    },
    {
      "cell_type": "code",
      "source": [
        "'''file_path = '/content/drive/My Drive/Colab Notebooks/tunbert_test.csv'\n",
        "\n",
        "# Save the DataFrame to a CSV file\n",
        "tunbert_test.to_csv(file_path, index=False)"
      ],
      "metadata": {
        "id": "y6H9qM0Ty1E8"
      },
      "id": "y6H9qM0Ty1E8",
      "execution_count": null,
      "outputs": []
    },
    {
      "cell_type": "code",
      "execution_count": 5,
      "id": "MSXe5f9A4dN-",
      "metadata": {
        "colab": {
          "base_uri": "https://localhost:8080/"
        },
        "id": "MSXe5f9A4dN-",
        "outputId": "351435b5-46e4-4adf-deb1-bb4bca403784"
      },
      "outputs": [
        {
          "output_type": "stream",
          "name": "stdout",
          "text": [
            "Train data shape:  (95664, 1) and test data shape is (23916, 1)\n"
          ]
        }
      ],
      "source": [
        "print('Train data shape: ', X_train.shape ,\"and test data shape is\",X_test.shape)"
      ]
    },
    {
      "cell_type": "code",
      "execution_count": 6,
      "id": "PwrXOawA43dp",
      "metadata": {
        "colab": {
          "base_uri": "https://localhost:8080/"
        },
        "id": "PwrXOawA43dp",
        "outputId": "edd102bc-8a9c-4178-9c4e-fa0e81be5876"
      },
      "outputs": [
        {
          "output_type": "execute_result",
          "data": {
            "text/plain": [
              "((119580, 2), (95664, 1), (23916, 1), (95664,), (23916,))"
            ]
          },
          "metadata": {},
          "execution_count": 6
        }
      ],
      "source": [
        "data.shape,X_train.shape,X_test.shape,y_train.shape,y_test.shape"
      ]
    },
    {
      "cell_type": "code",
      "execution_count": 7,
      "id": "HliOQFB9z8pP",
      "metadata": {
        "colab": {
          "base_uri": "https://localhost:8080/",
          "height": 520
        },
        "id": "HliOQFB9z8pP",
        "outputId": "49ca7233-955c-40be-8ac8-339961469a4a"
      },
      "outputs": [
        {
          "output_type": "execute_result",
          "data": {
            "text/plain": [
              "                                                     text\n",
              "33518                                              mahlek\n",
              "72066                             وقتاه مرويح انشاءالله ه\n",
              "64                            yeheb yepirati fcb yeji prv\n",
              "30436                                     الماء سخون برشا\n",
              "29210   راك تقتل يا نجلة لا بلوس بالي افير تون رال اوس...\n",
              "78083                        hasbouna ilah w n3am alwakil\n",
              "3840                                          3atek 3asba\n",
              "47628                                  برا نيك سليم رياحي\n",
              "47102                        parie ifoutich minutes sahni\n",
              "4077    انا نقليك راكيز معا جمعية و سيب عليك مي كلاب ت...\n",
              "19094              zeyed g3ar nzidouha jantes a5dher a7la\n",
              "56243                                        mast last ws\n",
              "110486  الجهل مصيبة و الانا الاعلى الا حكى علها فرويد ...\n",
              "75201                              a3fan cha5s fi el3alem\n",
              "33821   باللاهي يا ناس انا مازال عندي امل الي برشا ناس..."
            ],
            "text/html": [
              "\n",
              "  <div id=\"df-9857931f-0d8d-467e-ac35-f7dd09814d97\" class=\"colab-df-container\">\n",
              "    <div>\n",
              "<style scoped>\n",
              "    .dataframe tbody tr th:only-of-type {\n",
              "        vertical-align: middle;\n",
              "    }\n",
              "\n",
              "    .dataframe tbody tr th {\n",
              "        vertical-align: top;\n",
              "    }\n",
              "\n",
              "    .dataframe thead th {\n",
              "        text-align: right;\n",
              "    }\n",
              "</style>\n",
              "<table border=\"1\" class=\"dataframe\">\n",
              "  <thead>\n",
              "    <tr style=\"text-align: right;\">\n",
              "      <th></th>\n",
              "      <th>text</th>\n",
              "    </tr>\n",
              "  </thead>\n",
              "  <tbody>\n",
              "    <tr>\n",
              "      <th>33518</th>\n",
              "      <td>mahlek</td>\n",
              "    </tr>\n",
              "    <tr>\n",
              "      <th>72066</th>\n",
              "      <td>وقتاه مرويح انشاءالله ه</td>\n",
              "    </tr>\n",
              "    <tr>\n",
              "      <th>64</th>\n",
              "      <td>yeheb yepirati fcb yeji prv</td>\n",
              "    </tr>\n",
              "    <tr>\n",
              "      <th>30436</th>\n",
              "      <td>الماء سخون برشا</td>\n",
              "    </tr>\n",
              "    <tr>\n",
              "      <th>29210</th>\n",
              "      <td>راك تقتل يا نجلة لا بلوس بالي افير تون رال اوس...</td>\n",
              "    </tr>\n",
              "    <tr>\n",
              "      <th>78083</th>\n",
              "      <td>hasbouna ilah w n3am alwakil</td>\n",
              "    </tr>\n",
              "    <tr>\n",
              "      <th>3840</th>\n",
              "      <td>3atek 3asba</td>\n",
              "    </tr>\n",
              "    <tr>\n",
              "      <th>47628</th>\n",
              "      <td>برا نيك سليم رياحي</td>\n",
              "    </tr>\n",
              "    <tr>\n",
              "      <th>47102</th>\n",
              "      <td>parie ifoutich minutes sahni</td>\n",
              "    </tr>\n",
              "    <tr>\n",
              "      <th>4077</th>\n",
              "      <td>انا نقليك راكيز معا جمعية و سيب عليك مي كلاب ت...</td>\n",
              "    </tr>\n",
              "    <tr>\n",
              "      <th>19094</th>\n",
              "      <td>zeyed g3ar nzidouha jantes a5dher a7la</td>\n",
              "    </tr>\n",
              "    <tr>\n",
              "      <th>56243</th>\n",
              "      <td>mast last ws</td>\n",
              "    </tr>\n",
              "    <tr>\n",
              "      <th>110486</th>\n",
              "      <td>الجهل مصيبة و الانا الاعلى الا حكى علها فرويد ...</td>\n",
              "    </tr>\n",
              "    <tr>\n",
              "      <th>75201</th>\n",
              "      <td>a3fan cha5s fi el3alem</td>\n",
              "    </tr>\n",
              "    <tr>\n",
              "      <th>33821</th>\n",
              "      <td>باللاهي يا ناس انا مازال عندي امل الي برشا ناس...</td>\n",
              "    </tr>\n",
              "  </tbody>\n",
              "</table>\n",
              "</div>\n",
              "    <div class=\"colab-df-buttons\">\n",
              "\n",
              "  <div class=\"colab-df-container\">\n",
              "    <button class=\"colab-df-convert\" onclick=\"convertToInteractive('df-9857931f-0d8d-467e-ac35-f7dd09814d97')\"\n",
              "            title=\"Convert this dataframe to an interactive table.\"\n",
              "            style=\"display:none;\">\n",
              "\n",
              "  <svg xmlns=\"http://www.w3.org/2000/svg\" height=\"24px\" viewBox=\"0 -960 960 960\">\n",
              "    <path d=\"M120-120v-720h720v720H120Zm60-500h600v-160H180v160Zm220 220h160v-160H400v160Zm0 220h160v-160H400v160ZM180-400h160v-160H180v160Zm440 0h160v-160H620v160ZM180-180h160v-160H180v160Zm440 0h160v-160H620v160Z\"/>\n",
              "  </svg>\n",
              "    </button>\n",
              "\n",
              "  <style>\n",
              "    .colab-df-container {\n",
              "      display:flex;\n",
              "      gap: 12px;\n",
              "    }\n",
              "\n",
              "    .colab-df-convert {\n",
              "      background-color: #E8F0FE;\n",
              "      border: none;\n",
              "      border-radius: 50%;\n",
              "      cursor: pointer;\n",
              "      display: none;\n",
              "      fill: #1967D2;\n",
              "      height: 32px;\n",
              "      padding: 0 0 0 0;\n",
              "      width: 32px;\n",
              "    }\n",
              "\n",
              "    .colab-df-convert:hover {\n",
              "      background-color: #E2EBFA;\n",
              "      box-shadow: 0px 1px 2px rgba(60, 64, 67, 0.3), 0px 1px 3px 1px rgba(60, 64, 67, 0.15);\n",
              "      fill: #174EA6;\n",
              "    }\n",
              "\n",
              "    .colab-df-buttons div {\n",
              "      margin-bottom: 4px;\n",
              "    }\n",
              "\n",
              "    [theme=dark] .colab-df-convert {\n",
              "      background-color: #3B4455;\n",
              "      fill: #D2E3FC;\n",
              "    }\n",
              "\n",
              "    [theme=dark] .colab-df-convert:hover {\n",
              "      background-color: #434B5C;\n",
              "      box-shadow: 0px 1px 3px 1px rgba(0, 0, 0, 0.15);\n",
              "      filter: drop-shadow(0px 1px 2px rgba(0, 0, 0, 0.3));\n",
              "      fill: #FFFFFF;\n",
              "    }\n",
              "  </style>\n",
              "\n",
              "    <script>\n",
              "      const buttonEl =\n",
              "        document.querySelector('#df-9857931f-0d8d-467e-ac35-f7dd09814d97 button.colab-df-convert');\n",
              "      buttonEl.style.display =\n",
              "        google.colab.kernel.accessAllowed ? 'block' : 'none';\n",
              "\n",
              "      async function convertToInteractive(key) {\n",
              "        const element = document.querySelector('#df-9857931f-0d8d-467e-ac35-f7dd09814d97');\n",
              "        const dataTable =\n",
              "          await google.colab.kernel.invokeFunction('convertToInteractive',\n",
              "                                                    [key], {});\n",
              "        if (!dataTable) return;\n",
              "\n",
              "        const docLinkHtml = 'Like what you see? Visit the ' +\n",
              "          '<a target=\"_blank\" href=https://colab.research.google.com/notebooks/data_table.ipynb>data table notebook</a>'\n",
              "          + ' to learn more about interactive tables.';\n",
              "        element.innerHTML = '';\n",
              "        dataTable['output_type'] = 'display_data';\n",
              "        await google.colab.output.renderOutput(dataTable, element);\n",
              "        const docLink = document.createElement('div');\n",
              "        docLink.innerHTML = docLinkHtml;\n",
              "        element.appendChild(docLink);\n",
              "      }\n",
              "    </script>\n",
              "  </div>\n",
              "\n",
              "\n",
              "<div id=\"df-bec7ec11-4af5-4709-9829-0e94fa6ab56f\">\n",
              "  <button class=\"colab-df-quickchart\" onclick=\"quickchart('df-bec7ec11-4af5-4709-9829-0e94fa6ab56f')\"\n",
              "            title=\"Suggest charts\"\n",
              "            style=\"display:none;\">\n",
              "\n",
              "<svg xmlns=\"http://www.w3.org/2000/svg\" height=\"24px\"viewBox=\"0 0 24 24\"\n",
              "     width=\"24px\">\n",
              "    <g>\n",
              "        <path d=\"M19 3H5c-1.1 0-2 .9-2 2v14c0 1.1.9 2 2 2h14c1.1 0 2-.9 2-2V5c0-1.1-.9-2-2-2zM9 17H7v-7h2v7zm4 0h-2V7h2v10zm4 0h-2v-4h2v4z\"/>\n",
              "    </g>\n",
              "</svg>\n",
              "  </button>\n",
              "\n",
              "<style>\n",
              "  .colab-df-quickchart {\n",
              "      --bg-color: #E8F0FE;\n",
              "      --fill-color: #1967D2;\n",
              "      --hover-bg-color: #E2EBFA;\n",
              "      --hover-fill-color: #174EA6;\n",
              "      --disabled-fill-color: #AAA;\n",
              "      --disabled-bg-color: #DDD;\n",
              "  }\n",
              "\n",
              "  [theme=dark] .colab-df-quickchart {\n",
              "      --bg-color: #3B4455;\n",
              "      --fill-color: #D2E3FC;\n",
              "      --hover-bg-color: #434B5C;\n",
              "      --hover-fill-color: #FFFFFF;\n",
              "      --disabled-bg-color: #3B4455;\n",
              "      --disabled-fill-color: #666;\n",
              "  }\n",
              "\n",
              "  .colab-df-quickchart {\n",
              "    background-color: var(--bg-color);\n",
              "    border: none;\n",
              "    border-radius: 50%;\n",
              "    cursor: pointer;\n",
              "    display: none;\n",
              "    fill: var(--fill-color);\n",
              "    height: 32px;\n",
              "    padding: 0;\n",
              "    width: 32px;\n",
              "  }\n",
              "\n",
              "  .colab-df-quickchart:hover {\n",
              "    background-color: var(--hover-bg-color);\n",
              "    box-shadow: 0 1px 2px rgba(60, 64, 67, 0.3), 0 1px 3px 1px rgba(60, 64, 67, 0.15);\n",
              "    fill: var(--button-hover-fill-color);\n",
              "  }\n",
              "\n",
              "  .colab-df-quickchart-complete:disabled,\n",
              "  .colab-df-quickchart-complete:disabled:hover {\n",
              "    background-color: var(--disabled-bg-color);\n",
              "    fill: var(--disabled-fill-color);\n",
              "    box-shadow: none;\n",
              "  }\n",
              "\n",
              "  .colab-df-spinner {\n",
              "    border: 2px solid var(--fill-color);\n",
              "    border-color: transparent;\n",
              "    border-bottom-color: var(--fill-color);\n",
              "    animation:\n",
              "      spin 1s steps(1) infinite;\n",
              "  }\n",
              "\n",
              "  @keyframes spin {\n",
              "    0% {\n",
              "      border-color: transparent;\n",
              "      border-bottom-color: var(--fill-color);\n",
              "      border-left-color: var(--fill-color);\n",
              "    }\n",
              "    20% {\n",
              "      border-color: transparent;\n",
              "      border-left-color: var(--fill-color);\n",
              "      border-top-color: var(--fill-color);\n",
              "    }\n",
              "    30% {\n",
              "      border-color: transparent;\n",
              "      border-left-color: var(--fill-color);\n",
              "      border-top-color: var(--fill-color);\n",
              "      border-right-color: var(--fill-color);\n",
              "    }\n",
              "    40% {\n",
              "      border-color: transparent;\n",
              "      border-right-color: var(--fill-color);\n",
              "      border-top-color: var(--fill-color);\n",
              "    }\n",
              "    60% {\n",
              "      border-color: transparent;\n",
              "      border-right-color: var(--fill-color);\n",
              "    }\n",
              "    80% {\n",
              "      border-color: transparent;\n",
              "      border-right-color: var(--fill-color);\n",
              "      border-bottom-color: var(--fill-color);\n",
              "    }\n",
              "    90% {\n",
              "      border-color: transparent;\n",
              "      border-bottom-color: var(--fill-color);\n",
              "    }\n",
              "  }\n",
              "</style>\n",
              "\n",
              "  <script>\n",
              "    async function quickchart(key) {\n",
              "      const quickchartButtonEl =\n",
              "        document.querySelector('#' + key + ' button');\n",
              "      quickchartButtonEl.disabled = true;  // To prevent multiple clicks.\n",
              "      quickchartButtonEl.classList.add('colab-df-spinner');\n",
              "      try {\n",
              "        const charts = await google.colab.kernel.invokeFunction(\n",
              "            'suggestCharts', [key], {});\n",
              "      } catch (error) {\n",
              "        console.error('Error during call to suggestCharts:', error);\n",
              "      }\n",
              "      quickchartButtonEl.classList.remove('colab-df-spinner');\n",
              "      quickchartButtonEl.classList.add('colab-df-quickchart-complete');\n",
              "    }\n",
              "    (() => {\n",
              "      let quickchartButtonEl =\n",
              "        document.querySelector('#df-bec7ec11-4af5-4709-9829-0e94fa6ab56f button');\n",
              "      quickchartButtonEl.style.display =\n",
              "        google.colab.kernel.accessAllowed ? 'block' : 'none';\n",
              "    })();\n",
              "  </script>\n",
              "</div>\n",
              "    </div>\n",
              "  </div>\n"
            ],
            "application/vnd.google.colaboratory.intrinsic+json": {
              "type": "dataframe",
              "summary": "{\n  \"name\": \"X_train\",\n  \"rows\": 15,\n  \"fields\": [\n    {\n      \"column\": \"text\",\n      \"properties\": {\n        \"dtype\": \"string\",\n        \"num_unique_values\": 15,\n        \"samples\": [\n          \"\\u0627\\u0646\\u0627 \\u0646\\u0642\\u0644\\u064a\\u0643 \\u0631\\u0627\\u0643\\u064a\\u0632 \\u0645\\u0639\\u0627 \\u062c\\u0645\\u0639\\u064a\\u0629 \\u0648 \\u0633\\u064a\\u0628 \\u0639\\u0644\\u064a\\u0643 \\u0645\\u064a \\u0643\\u0644\\u0627\\u0628 \\u062a\\u062c\\u0645\\u0639 \\u0648 \\u0628 \\u0637\\u0648\\u0644 \\u0648\\u0642\\u062a \\u062a\\u0648 \\u062a\\u0639\\u0645\\u0644 \\u062d\\u0632\\u0628 \\u0642\\u0648\\u064a \\u0648 \\u0645\\u0646\\u063a\\u064a\\u0631 \\u0647\\u0627\\u0643 \\u0632\\u0646\\u0648\\u0633 \\u0631\\u0627\\u0647\\u0645 \\u063a\\u062f\\u0627\\u0631\\u0629 \\u062a\\u0648 \\u062a\\u0636\\u0643\\u0631 \\u0643\\u0644\\u0627\\u0645\\u064a\",\n          \"mast last ws\",\n          \"mahlek\"\n        ],\n        \"semantic_type\": \"\",\n        \"description\": \"\"\n      }\n    }\n  ]\n}"
            }
          },
          "metadata": {},
          "execution_count": 7
        }
      ],
      "source": [
        "X_train.sample(15,random_state=1)"
      ]
    },
    {
      "cell_type": "code",
      "execution_count": 8,
      "id": "AQJ5nILLz8pS",
      "metadata": {
        "colab": {
          "base_uri": "https://localhost:8080/",
          "height": 520
        },
        "id": "AQJ5nILLz8pS",
        "outputId": "eace4bf6-25fb-4348-9818-417dcebbe39a"
      },
      "outputs": [
        {
          "output_type": "execute_result",
          "data": {
            "text/plain": [
              "                                                     text\n",
              "94557                           برافو ناجي جلول ميل برافو\n",
              "2338                                      tmaredh coulira\n",
              "24546                                                منور\n",
              "31072   سلومة منور سا و موهر يا غالي اما بالحق شفلنا ح...\n",
              "48292                                          هاذي وقتاش\n",
              "114523                                     intidebet jdod\n",
              "72252                                     nahdhaoui maset\n",
              "117559  tbanderlou t9olou ykhalik nheb n9olha 9ofa 9ad...\n",
              "36865                      مجموعة مالشلايك حاشا مرت سفيان\n",
              "118795     araftha aka tebda 5ra lrasek t9olhom jawi behy\n",
              "47380   بقدرة ربي منراو منو كان اللخر راهو ولد الغاية ...\n",
              "112754                                           te3jebni\n",
              "27743   نحبوك تجي بحضانة ال بوسلم تت انفيستي فيها بوسل...\n",
              "71058            mosaique masra te7chemna 7ata ma3 ejiran\n",
              "68409                                              m3alem"
            ],
            "text/html": [
              "\n",
              "  <div id=\"df-cfd49399-5572-411a-8288-306581a8ba8e\" class=\"colab-df-container\">\n",
              "    <div>\n",
              "<style scoped>\n",
              "    .dataframe tbody tr th:only-of-type {\n",
              "        vertical-align: middle;\n",
              "    }\n",
              "\n",
              "    .dataframe tbody tr th {\n",
              "        vertical-align: top;\n",
              "    }\n",
              "\n",
              "    .dataframe thead th {\n",
              "        text-align: right;\n",
              "    }\n",
              "</style>\n",
              "<table border=\"1\" class=\"dataframe\">\n",
              "  <thead>\n",
              "    <tr style=\"text-align: right;\">\n",
              "      <th></th>\n",
              "      <th>text</th>\n",
              "    </tr>\n",
              "  </thead>\n",
              "  <tbody>\n",
              "    <tr>\n",
              "      <th>94557</th>\n",
              "      <td>برافو ناجي جلول ميل برافو</td>\n",
              "    </tr>\n",
              "    <tr>\n",
              "      <th>2338</th>\n",
              "      <td>tmaredh coulira</td>\n",
              "    </tr>\n",
              "    <tr>\n",
              "      <th>24546</th>\n",
              "      <td>منور</td>\n",
              "    </tr>\n",
              "    <tr>\n",
              "      <th>31072</th>\n",
              "      <td>سلومة منور سا و موهر يا غالي اما بالحق شفلنا ح...</td>\n",
              "    </tr>\n",
              "    <tr>\n",
              "      <th>48292</th>\n",
              "      <td>هاذي وقتاش</td>\n",
              "    </tr>\n",
              "    <tr>\n",
              "      <th>114523</th>\n",
              "      <td>intidebet jdod</td>\n",
              "    </tr>\n",
              "    <tr>\n",
              "      <th>72252</th>\n",
              "      <td>nahdhaoui maset</td>\n",
              "    </tr>\n",
              "    <tr>\n",
              "      <th>117559</th>\n",
              "      <td>tbanderlou t9olou ykhalik nheb n9olha 9ofa 9ad...</td>\n",
              "    </tr>\n",
              "    <tr>\n",
              "      <th>36865</th>\n",
              "      <td>مجموعة مالشلايك حاشا مرت سفيان</td>\n",
              "    </tr>\n",
              "    <tr>\n",
              "      <th>118795</th>\n",
              "      <td>araftha aka tebda 5ra lrasek t9olhom jawi behy</td>\n",
              "    </tr>\n",
              "    <tr>\n",
              "      <th>47380</th>\n",
              "      <td>بقدرة ربي منراو منو كان اللخر راهو ولد الغاية ...</td>\n",
              "    </tr>\n",
              "    <tr>\n",
              "      <th>112754</th>\n",
              "      <td>te3jebni</td>\n",
              "    </tr>\n",
              "    <tr>\n",
              "      <th>27743</th>\n",
              "      <td>نحبوك تجي بحضانة ال بوسلم تت انفيستي فيها بوسل...</td>\n",
              "    </tr>\n",
              "    <tr>\n",
              "      <th>71058</th>\n",
              "      <td>mosaique masra te7chemna 7ata ma3 ejiran</td>\n",
              "    </tr>\n",
              "    <tr>\n",
              "      <th>68409</th>\n",
              "      <td>m3alem</td>\n",
              "    </tr>\n",
              "  </tbody>\n",
              "</table>\n",
              "</div>\n",
              "    <div class=\"colab-df-buttons\">\n",
              "\n",
              "  <div class=\"colab-df-container\">\n",
              "    <button class=\"colab-df-convert\" onclick=\"convertToInteractive('df-cfd49399-5572-411a-8288-306581a8ba8e')\"\n",
              "            title=\"Convert this dataframe to an interactive table.\"\n",
              "            style=\"display:none;\">\n",
              "\n",
              "  <svg xmlns=\"http://www.w3.org/2000/svg\" height=\"24px\" viewBox=\"0 -960 960 960\">\n",
              "    <path d=\"M120-120v-720h720v720H120Zm60-500h600v-160H180v160Zm220 220h160v-160H400v160Zm0 220h160v-160H400v160ZM180-400h160v-160H180v160Zm440 0h160v-160H620v160ZM180-180h160v-160H180v160Zm440 0h160v-160H620v160Z\"/>\n",
              "  </svg>\n",
              "    </button>\n",
              "\n",
              "  <style>\n",
              "    .colab-df-container {\n",
              "      display:flex;\n",
              "      gap: 12px;\n",
              "    }\n",
              "\n",
              "    .colab-df-convert {\n",
              "      background-color: #E8F0FE;\n",
              "      border: none;\n",
              "      border-radius: 50%;\n",
              "      cursor: pointer;\n",
              "      display: none;\n",
              "      fill: #1967D2;\n",
              "      height: 32px;\n",
              "      padding: 0 0 0 0;\n",
              "      width: 32px;\n",
              "    }\n",
              "\n",
              "    .colab-df-convert:hover {\n",
              "      background-color: #E2EBFA;\n",
              "      box-shadow: 0px 1px 2px rgba(60, 64, 67, 0.3), 0px 1px 3px 1px rgba(60, 64, 67, 0.15);\n",
              "      fill: #174EA6;\n",
              "    }\n",
              "\n",
              "    .colab-df-buttons div {\n",
              "      margin-bottom: 4px;\n",
              "    }\n",
              "\n",
              "    [theme=dark] .colab-df-convert {\n",
              "      background-color: #3B4455;\n",
              "      fill: #D2E3FC;\n",
              "    }\n",
              "\n",
              "    [theme=dark] .colab-df-convert:hover {\n",
              "      background-color: #434B5C;\n",
              "      box-shadow: 0px 1px 3px 1px rgba(0, 0, 0, 0.15);\n",
              "      filter: drop-shadow(0px 1px 2px rgba(0, 0, 0, 0.3));\n",
              "      fill: #FFFFFF;\n",
              "    }\n",
              "  </style>\n",
              "\n",
              "    <script>\n",
              "      const buttonEl =\n",
              "        document.querySelector('#df-cfd49399-5572-411a-8288-306581a8ba8e button.colab-df-convert');\n",
              "      buttonEl.style.display =\n",
              "        google.colab.kernel.accessAllowed ? 'block' : 'none';\n",
              "\n",
              "      async function convertToInteractive(key) {\n",
              "        const element = document.querySelector('#df-cfd49399-5572-411a-8288-306581a8ba8e');\n",
              "        const dataTable =\n",
              "          await google.colab.kernel.invokeFunction('convertToInteractive',\n",
              "                                                    [key], {});\n",
              "        if (!dataTable) return;\n",
              "\n",
              "        const docLinkHtml = 'Like what you see? Visit the ' +\n",
              "          '<a target=\"_blank\" href=https://colab.research.google.com/notebooks/data_table.ipynb>data table notebook</a>'\n",
              "          + ' to learn more about interactive tables.';\n",
              "        element.innerHTML = '';\n",
              "        dataTable['output_type'] = 'display_data';\n",
              "        await google.colab.output.renderOutput(dataTable, element);\n",
              "        const docLink = document.createElement('div');\n",
              "        docLink.innerHTML = docLinkHtml;\n",
              "        element.appendChild(docLink);\n",
              "      }\n",
              "    </script>\n",
              "  </div>\n",
              "\n",
              "\n",
              "<div id=\"df-a31d4ed6-5780-435f-9184-69ab2dbd96e0\">\n",
              "  <button class=\"colab-df-quickchart\" onclick=\"quickchart('df-a31d4ed6-5780-435f-9184-69ab2dbd96e0')\"\n",
              "            title=\"Suggest charts\"\n",
              "            style=\"display:none;\">\n",
              "\n",
              "<svg xmlns=\"http://www.w3.org/2000/svg\" height=\"24px\"viewBox=\"0 0 24 24\"\n",
              "     width=\"24px\">\n",
              "    <g>\n",
              "        <path d=\"M19 3H5c-1.1 0-2 .9-2 2v14c0 1.1.9 2 2 2h14c1.1 0 2-.9 2-2V5c0-1.1-.9-2-2-2zM9 17H7v-7h2v7zm4 0h-2V7h2v10zm4 0h-2v-4h2v4z\"/>\n",
              "    </g>\n",
              "</svg>\n",
              "  </button>\n",
              "\n",
              "<style>\n",
              "  .colab-df-quickchart {\n",
              "      --bg-color: #E8F0FE;\n",
              "      --fill-color: #1967D2;\n",
              "      --hover-bg-color: #E2EBFA;\n",
              "      --hover-fill-color: #174EA6;\n",
              "      --disabled-fill-color: #AAA;\n",
              "      --disabled-bg-color: #DDD;\n",
              "  }\n",
              "\n",
              "  [theme=dark] .colab-df-quickchart {\n",
              "      --bg-color: #3B4455;\n",
              "      --fill-color: #D2E3FC;\n",
              "      --hover-bg-color: #434B5C;\n",
              "      --hover-fill-color: #FFFFFF;\n",
              "      --disabled-bg-color: #3B4455;\n",
              "      --disabled-fill-color: #666;\n",
              "  }\n",
              "\n",
              "  .colab-df-quickchart {\n",
              "    background-color: var(--bg-color);\n",
              "    border: none;\n",
              "    border-radius: 50%;\n",
              "    cursor: pointer;\n",
              "    display: none;\n",
              "    fill: var(--fill-color);\n",
              "    height: 32px;\n",
              "    padding: 0;\n",
              "    width: 32px;\n",
              "  }\n",
              "\n",
              "  .colab-df-quickchart:hover {\n",
              "    background-color: var(--hover-bg-color);\n",
              "    box-shadow: 0 1px 2px rgba(60, 64, 67, 0.3), 0 1px 3px 1px rgba(60, 64, 67, 0.15);\n",
              "    fill: var(--button-hover-fill-color);\n",
              "  }\n",
              "\n",
              "  .colab-df-quickchart-complete:disabled,\n",
              "  .colab-df-quickchart-complete:disabled:hover {\n",
              "    background-color: var(--disabled-bg-color);\n",
              "    fill: var(--disabled-fill-color);\n",
              "    box-shadow: none;\n",
              "  }\n",
              "\n",
              "  .colab-df-spinner {\n",
              "    border: 2px solid var(--fill-color);\n",
              "    border-color: transparent;\n",
              "    border-bottom-color: var(--fill-color);\n",
              "    animation:\n",
              "      spin 1s steps(1) infinite;\n",
              "  }\n",
              "\n",
              "  @keyframes spin {\n",
              "    0% {\n",
              "      border-color: transparent;\n",
              "      border-bottom-color: var(--fill-color);\n",
              "      border-left-color: var(--fill-color);\n",
              "    }\n",
              "    20% {\n",
              "      border-color: transparent;\n",
              "      border-left-color: var(--fill-color);\n",
              "      border-top-color: var(--fill-color);\n",
              "    }\n",
              "    30% {\n",
              "      border-color: transparent;\n",
              "      border-left-color: var(--fill-color);\n",
              "      border-top-color: var(--fill-color);\n",
              "      border-right-color: var(--fill-color);\n",
              "    }\n",
              "    40% {\n",
              "      border-color: transparent;\n",
              "      border-right-color: var(--fill-color);\n",
              "      border-top-color: var(--fill-color);\n",
              "    }\n",
              "    60% {\n",
              "      border-color: transparent;\n",
              "      border-right-color: var(--fill-color);\n",
              "    }\n",
              "    80% {\n",
              "      border-color: transparent;\n",
              "      border-right-color: var(--fill-color);\n",
              "      border-bottom-color: var(--fill-color);\n",
              "    }\n",
              "    90% {\n",
              "      border-color: transparent;\n",
              "      border-bottom-color: var(--fill-color);\n",
              "    }\n",
              "  }\n",
              "</style>\n",
              "\n",
              "  <script>\n",
              "    async function quickchart(key) {\n",
              "      const quickchartButtonEl =\n",
              "        document.querySelector('#' + key + ' button');\n",
              "      quickchartButtonEl.disabled = true;  // To prevent multiple clicks.\n",
              "      quickchartButtonEl.classList.add('colab-df-spinner');\n",
              "      try {\n",
              "        const charts = await google.colab.kernel.invokeFunction(\n",
              "            'suggestCharts', [key], {});\n",
              "      } catch (error) {\n",
              "        console.error('Error during call to suggestCharts:', error);\n",
              "      }\n",
              "      quickchartButtonEl.classList.remove('colab-df-spinner');\n",
              "      quickchartButtonEl.classList.add('colab-df-quickchart-complete');\n",
              "    }\n",
              "    (() => {\n",
              "      let quickchartButtonEl =\n",
              "        document.querySelector('#df-a31d4ed6-5780-435f-9184-69ab2dbd96e0 button');\n",
              "      quickchartButtonEl.style.display =\n",
              "        google.colab.kernel.accessAllowed ? 'block' : 'none';\n",
              "    })();\n",
              "  </script>\n",
              "</div>\n",
              "    </div>\n",
              "  </div>\n"
            ],
            "application/vnd.google.colaboratory.intrinsic+json": {
              "type": "dataframe",
              "summary": "{\n  \"name\": \"X_test\",\n  \"rows\": 15,\n  \"fields\": [\n    {\n      \"column\": \"text\",\n      \"properties\": {\n        \"dtype\": \"string\",\n        \"num_unique_values\": 15,\n        \"samples\": [\n          \"araftha aka tebda 5ra lrasek t9olhom jawi behy\",\n          \"te3jebni\",\n          \"\\u0628\\u0631\\u0627\\u0641\\u0648 \\u0646\\u0627\\u062c\\u064a \\u062c\\u0644\\u0648\\u0644 \\u0645\\u064a\\u0644 \\u0628\\u0631\\u0627\\u0641\\u0648\"\n        ],\n        \"semantic_type\": \"\",\n        \"description\": \"\"\n      }\n    }\n  ]\n}"
            }
          },
          "metadata": {},
          "execution_count": 8
        }
      ],
      "source": [
        "X_test.sample(15,random_state=1)"
      ]
    },
    {
      "cell_type": "code",
      "execution_count": 9,
      "id": "dyZ0rGGT6Ipn",
      "metadata": {
        "colab": {
          "base_uri": "https://localhost:8080/",
          "height": 206
        },
        "id": "dyZ0rGGT6Ipn",
        "outputId": "99b4aef3-7b34-4691-ace9-617a6fe9ee5e"
      },
      "outputs": [
        {
          "output_type": "execute_result",
          "data": {
            "text/plain": [
              "                                                     text\n",
              "101542  هوا خدم حاجة عمل مجهود باهيا خايبة ناس تحكم ان...\n",
              "29306   3leha hsine gandoura zebi joueret fin contrat ...\n",
              "27851   الزب احنى في من او صلنا كوم و هوما في جور في ك...\n",
              "960                                maniktha welamar jiran\n",
              "33331   عندك كلمة على روحك موش على توانس لكل واللي قبل..."
            ],
            "text/html": [
              "\n",
              "  <div id=\"df-2c3453fa-8c21-4e70-aae0-f250ffd248f5\" class=\"colab-df-container\">\n",
              "    <div>\n",
              "<style scoped>\n",
              "    .dataframe tbody tr th:only-of-type {\n",
              "        vertical-align: middle;\n",
              "    }\n",
              "\n",
              "    .dataframe tbody tr th {\n",
              "        vertical-align: top;\n",
              "    }\n",
              "\n",
              "    .dataframe thead th {\n",
              "        text-align: right;\n",
              "    }\n",
              "</style>\n",
              "<table border=\"1\" class=\"dataframe\">\n",
              "  <thead>\n",
              "    <tr style=\"text-align: right;\">\n",
              "      <th></th>\n",
              "      <th>text</th>\n",
              "    </tr>\n",
              "  </thead>\n",
              "  <tbody>\n",
              "    <tr>\n",
              "      <th>101542</th>\n",
              "      <td>هوا خدم حاجة عمل مجهود باهيا خايبة ناس تحكم ان...</td>\n",
              "    </tr>\n",
              "    <tr>\n",
              "      <th>29306</th>\n",
              "      <td>3leha hsine gandoura zebi joueret fin contrat ...</td>\n",
              "    </tr>\n",
              "    <tr>\n",
              "      <th>27851</th>\n",
              "      <td>الزب احنى في من او صلنا كوم و هوما في جور في ك...</td>\n",
              "    </tr>\n",
              "    <tr>\n",
              "      <th>960</th>\n",
              "      <td>maniktha welamar jiran</td>\n",
              "    </tr>\n",
              "    <tr>\n",
              "      <th>33331</th>\n",
              "      <td>عندك كلمة على روحك موش على توانس لكل واللي قبل...</td>\n",
              "    </tr>\n",
              "  </tbody>\n",
              "</table>\n",
              "</div>\n",
              "    <div class=\"colab-df-buttons\">\n",
              "\n",
              "  <div class=\"colab-df-container\">\n",
              "    <button class=\"colab-df-convert\" onclick=\"convertToInteractive('df-2c3453fa-8c21-4e70-aae0-f250ffd248f5')\"\n",
              "            title=\"Convert this dataframe to an interactive table.\"\n",
              "            style=\"display:none;\">\n",
              "\n",
              "  <svg xmlns=\"http://www.w3.org/2000/svg\" height=\"24px\" viewBox=\"0 -960 960 960\">\n",
              "    <path d=\"M120-120v-720h720v720H120Zm60-500h600v-160H180v160Zm220 220h160v-160H400v160Zm0 220h160v-160H400v160ZM180-400h160v-160H180v160Zm440 0h160v-160H620v160ZM180-180h160v-160H180v160Zm440 0h160v-160H620v160Z\"/>\n",
              "  </svg>\n",
              "    </button>\n",
              "\n",
              "  <style>\n",
              "    .colab-df-container {\n",
              "      display:flex;\n",
              "      gap: 12px;\n",
              "    }\n",
              "\n",
              "    .colab-df-convert {\n",
              "      background-color: #E8F0FE;\n",
              "      border: none;\n",
              "      border-radius: 50%;\n",
              "      cursor: pointer;\n",
              "      display: none;\n",
              "      fill: #1967D2;\n",
              "      height: 32px;\n",
              "      padding: 0 0 0 0;\n",
              "      width: 32px;\n",
              "    }\n",
              "\n",
              "    .colab-df-convert:hover {\n",
              "      background-color: #E2EBFA;\n",
              "      box-shadow: 0px 1px 2px rgba(60, 64, 67, 0.3), 0px 1px 3px 1px rgba(60, 64, 67, 0.15);\n",
              "      fill: #174EA6;\n",
              "    }\n",
              "\n",
              "    .colab-df-buttons div {\n",
              "      margin-bottom: 4px;\n",
              "    }\n",
              "\n",
              "    [theme=dark] .colab-df-convert {\n",
              "      background-color: #3B4455;\n",
              "      fill: #D2E3FC;\n",
              "    }\n",
              "\n",
              "    [theme=dark] .colab-df-convert:hover {\n",
              "      background-color: #434B5C;\n",
              "      box-shadow: 0px 1px 3px 1px rgba(0, 0, 0, 0.15);\n",
              "      filter: drop-shadow(0px 1px 2px rgba(0, 0, 0, 0.3));\n",
              "      fill: #FFFFFF;\n",
              "    }\n",
              "  </style>\n",
              "\n",
              "    <script>\n",
              "      const buttonEl =\n",
              "        document.querySelector('#df-2c3453fa-8c21-4e70-aae0-f250ffd248f5 button.colab-df-convert');\n",
              "      buttonEl.style.display =\n",
              "        google.colab.kernel.accessAllowed ? 'block' : 'none';\n",
              "\n",
              "      async function convertToInteractive(key) {\n",
              "        const element = document.querySelector('#df-2c3453fa-8c21-4e70-aae0-f250ffd248f5');\n",
              "        const dataTable =\n",
              "          await google.colab.kernel.invokeFunction('convertToInteractive',\n",
              "                                                    [key], {});\n",
              "        if (!dataTable) return;\n",
              "\n",
              "        const docLinkHtml = 'Like what you see? Visit the ' +\n",
              "          '<a target=\"_blank\" href=https://colab.research.google.com/notebooks/data_table.ipynb>data table notebook</a>'\n",
              "          + ' to learn more about interactive tables.';\n",
              "        element.innerHTML = '';\n",
              "        dataTable['output_type'] = 'display_data';\n",
              "        await google.colab.output.renderOutput(dataTable, element);\n",
              "        const docLink = document.createElement('div');\n",
              "        docLink.innerHTML = docLinkHtml;\n",
              "        element.appendChild(docLink);\n",
              "      }\n",
              "    </script>\n",
              "  </div>\n",
              "\n",
              "\n",
              "<div id=\"df-c82a1710-c0e5-42fb-bed5-2761bd94eb52\">\n",
              "  <button class=\"colab-df-quickchart\" onclick=\"quickchart('df-c82a1710-c0e5-42fb-bed5-2761bd94eb52')\"\n",
              "            title=\"Suggest charts\"\n",
              "            style=\"display:none;\">\n",
              "\n",
              "<svg xmlns=\"http://www.w3.org/2000/svg\" height=\"24px\"viewBox=\"0 0 24 24\"\n",
              "     width=\"24px\">\n",
              "    <g>\n",
              "        <path d=\"M19 3H5c-1.1 0-2 .9-2 2v14c0 1.1.9 2 2 2h14c1.1 0 2-.9 2-2V5c0-1.1-.9-2-2-2zM9 17H7v-7h2v7zm4 0h-2V7h2v10zm4 0h-2v-4h2v4z\"/>\n",
              "    </g>\n",
              "</svg>\n",
              "  </button>\n",
              "\n",
              "<style>\n",
              "  .colab-df-quickchart {\n",
              "      --bg-color: #E8F0FE;\n",
              "      --fill-color: #1967D2;\n",
              "      --hover-bg-color: #E2EBFA;\n",
              "      --hover-fill-color: #174EA6;\n",
              "      --disabled-fill-color: #AAA;\n",
              "      --disabled-bg-color: #DDD;\n",
              "  }\n",
              "\n",
              "  [theme=dark] .colab-df-quickchart {\n",
              "      --bg-color: #3B4455;\n",
              "      --fill-color: #D2E3FC;\n",
              "      --hover-bg-color: #434B5C;\n",
              "      --hover-fill-color: #FFFFFF;\n",
              "      --disabled-bg-color: #3B4455;\n",
              "      --disabled-fill-color: #666;\n",
              "  }\n",
              "\n",
              "  .colab-df-quickchart {\n",
              "    background-color: var(--bg-color);\n",
              "    border: none;\n",
              "    border-radius: 50%;\n",
              "    cursor: pointer;\n",
              "    display: none;\n",
              "    fill: var(--fill-color);\n",
              "    height: 32px;\n",
              "    padding: 0;\n",
              "    width: 32px;\n",
              "  }\n",
              "\n",
              "  .colab-df-quickchart:hover {\n",
              "    background-color: var(--hover-bg-color);\n",
              "    box-shadow: 0 1px 2px rgba(60, 64, 67, 0.3), 0 1px 3px 1px rgba(60, 64, 67, 0.15);\n",
              "    fill: var(--button-hover-fill-color);\n",
              "  }\n",
              "\n",
              "  .colab-df-quickchart-complete:disabled,\n",
              "  .colab-df-quickchart-complete:disabled:hover {\n",
              "    background-color: var(--disabled-bg-color);\n",
              "    fill: var(--disabled-fill-color);\n",
              "    box-shadow: none;\n",
              "  }\n",
              "\n",
              "  .colab-df-spinner {\n",
              "    border: 2px solid var(--fill-color);\n",
              "    border-color: transparent;\n",
              "    border-bottom-color: var(--fill-color);\n",
              "    animation:\n",
              "      spin 1s steps(1) infinite;\n",
              "  }\n",
              "\n",
              "  @keyframes spin {\n",
              "    0% {\n",
              "      border-color: transparent;\n",
              "      border-bottom-color: var(--fill-color);\n",
              "      border-left-color: var(--fill-color);\n",
              "    }\n",
              "    20% {\n",
              "      border-color: transparent;\n",
              "      border-left-color: var(--fill-color);\n",
              "      border-top-color: var(--fill-color);\n",
              "    }\n",
              "    30% {\n",
              "      border-color: transparent;\n",
              "      border-left-color: var(--fill-color);\n",
              "      border-top-color: var(--fill-color);\n",
              "      border-right-color: var(--fill-color);\n",
              "    }\n",
              "    40% {\n",
              "      border-color: transparent;\n",
              "      border-right-color: var(--fill-color);\n",
              "      border-top-color: var(--fill-color);\n",
              "    }\n",
              "    60% {\n",
              "      border-color: transparent;\n",
              "      border-right-color: var(--fill-color);\n",
              "    }\n",
              "    80% {\n",
              "      border-color: transparent;\n",
              "      border-right-color: var(--fill-color);\n",
              "      border-bottom-color: var(--fill-color);\n",
              "    }\n",
              "    90% {\n",
              "      border-color: transparent;\n",
              "      border-bottom-color: var(--fill-color);\n",
              "    }\n",
              "  }\n",
              "</style>\n",
              "\n",
              "  <script>\n",
              "    async function quickchart(key) {\n",
              "      const quickchartButtonEl =\n",
              "        document.querySelector('#' + key + ' button');\n",
              "      quickchartButtonEl.disabled = true;  // To prevent multiple clicks.\n",
              "      quickchartButtonEl.classList.add('colab-df-spinner');\n",
              "      try {\n",
              "        const charts = await google.colab.kernel.invokeFunction(\n",
              "            'suggestCharts', [key], {});\n",
              "      } catch (error) {\n",
              "        console.error('Error during call to suggestCharts:', error);\n",
              "      }\n",
              "      quickchartButtonEl.classList.remove('colab-df-spinner');\n",
              "      quickchartButtonEl.classList.add('colab-df-quickchart-complete');\n",
              "    }\n",
              "    (() => {\n",
              "      let quickchartButtonEl =\n",
              "        document.querySelector('#df-c82a1710-c0e5-42fb-bed5-2761bd94eb52 button');\n",
              "      quickchartButtonEl.style.display =\n",
              "        google.colab.kernel.accessAllowed ? 'block' : 'none';\n",
              "    })();\n",
              "  </script>\n",
              "</div>\n",
              "    </div>\n",
              "  </div>\n"
            ],
            "application/vnd.google.colaboratory.intrinsic+json": {
              "type": "dataframe",
              "variable_name": "X_train",
              "summary": "{\n  \"name\": \"X_train\",\n  \"rows\": 95664,\n  \"fields\": [\n    {\n      \"column\": \"text\",\n      \"properties\": {\n        \"dtype\": \"string\",\n        \"num_unique_values\": 74489,\n        \"samples\": [\n          \"\\u0627\\u0628\\u0639\\u0636\\u0647\\u0645 \\u064a\\u0627 \\u0633\\u0644\\u0648\\u0645\\u0629 \\u062d\\u0633\\u062f \\u0648 \\u063a\\u064a\\u0631\\u0629 \\u0645\\u0639\\u0627\\u0643 \\u0631\\u0628\\u064a \\u0648\\u0627\\u062d\\u0646\\u0627 \\u0634\\u0639\\u0628 \\u0644\\u0641\\u0631\\u064a\\u0642\\u064a \\u0648\\u0633\\u0637\\u0631 \\u0631\\u0628\\u064a\",\n          \"yebdou ano lfacebook hoa edawla lwahida el9ayma edhat fi tounes\",\n          \"\\u064a\\u0627 \\u0648\\u0644\\u062f \\u0644\\u0639\\u0647\\u0631\\u0629\"\n        ],\n        \"semantic_type\": \"\",\n        \"description\": \"\"\n      }\n    }\n  ]\n}"
            }
          },
          "metadata": {},
          "execution_count": 9
        }
      ],
      "source": [
        "X_train.head()"
      ]
    },
    {
      "cell_type": "code",
      "execution_count": 10,
      "id": "zNwFZi1o6WuH",
      "metadata": {
        "colab": {
          "base_uri": "https://localhost:8080/"
        },
        "id": "zNwFZi1o6WuH",
        "outputId": "9ad76510-953b-4a27-a81b-4da0308c7636"
      },
      "outputs": [
        {
          "output_type": "execute_result",
          "data": {
            "text/plain": [
              "101542    0\n",
              "29306     1\n",
              "27851     1\n",
              "960       1\n",
              "33331     0\n",
              "Name: label, dtype: int64"
            ]
          },
          "metadata": {},
          "execution_count": 10
        }
      ],
      "source": [
        "y_train.head()"
      ]
    },
    {
      "cell_type": "markdown",
      "id": "cf9BVnYHz8pU",
      "metadata": {
        "id": "cf9BVnYHz8pU"
      },
      "source": [
        "# Data Visualisation"
      ]
    },
    {
      "cell_type": "code",
      "execution_count": 11,
      "id": "P0t23JjSz8pW",
      "metadata": {
        "colab": {
          "base_uri": "https://localhost:8080/",
          "height": 35
        },
        "id": "P0t23JjSz8pW",
        "outputId": "a2bad078-29f7-44b0-c2d4-7df9fec9a13f"
      },
      "outputs": [
        {
          "output_type": "execute_result",
          "data": {
            "text/plain": [
              "'yazina chlayk'"
            ],
            "application/vnd.google.colaboratory.intrinsic+json": {
              "type": "string"
            }
          },
          "metadata": {},
          "execution_count": 11
        }
      ],
      "source": [
        "# negative comments\n",
        "negative_dialect = X_train[y_train==1]['text']\n",
        "negative_dialect.values[3]"
      ]
    },
    {
      "cell_type": "code",
      "execution_count": 12,
      "id": "z3GLx0xbz8pd",
      "metadata": {
        "colab": {
          "base_uri": "https://localhost:8080/",
          "height": 35
        },
        "id": "z3GLx0xbz8pd",
        "outputId": "c6e2cb51-a3b6-4189-ea43-458cbb06f58c"
      },
      "outputs": [
        {
          "output_type": "execute_result",
          "data": {
            "text/plain": [
              "'كي فوزي راك خالي ارجع ليل مزويد و خاني حاجة الي تحبها اما ما تخلينش ضيعين راهو حطاهنا عندنا حاك عليك امعلم ب ب معلم والله من اجمل اصوات برافو فوزي'"
            ],
            "application/vnd.google.colaboratory.intrinsic+json": {
              "type": "string"
            }
          },
          "metadata": {},
          "execution_count": 12
        }
      ],
      "source": [
        "\n",
        "# positive comments\n",
        "positive_dialect = X_train[y_train==0]['text']\n",
        "positive_dialect.values[6]"
      ]
    },
    {
      "cell_type": "code",
      "execution_count": 13,
      "id": "orUl-IIqz8ph",
      "metadata": {
        "colab": {
          "base_uri": "https://localhost:8080/"
        },
        "id": "orUl-IIqz8ph",
        "outputId": "835a5c09-9f57-4042-ef8c-94e7af655379"
      },
      "outputs": [
        {
          "output_type": "stream",
          "name": "stdout",
          "text": [
            "label\n",
            "0    57818\n",
            "1    37846\n",
            "Name: count, dtype: int64\n"
          ]
        }
      ],
      "source": [
        "#Distribution of the label Column\n",
        "print(y_train.value_counts())\n",
        "#not a good distribution"
      ]
    },
    {
      "cell_type": "code",
      "execution_count": 14,
      "id": "uegdOPvEz8pj",
      "metadata": {
        "colab": {
          "base_uri": "https://localhost:8080/",
          "height": 468
        },
        "id": "uegdOPvEz8pj",
        "outputId": "355f173e-a90a-4b99-f904-5a06e6c6c7e8",
        "scrolled": true
      },
      "outputs": [
        {
          "output_type": "execute_result",
          "data": {
            "text/plain": [
              "<Axes: xlabel='label', ylabel='count'>"
            ]
          },
          "metadata": {},
          "execution_count": 14
        },
        {
          "output_type": "display_data",
          "data": {
            "text/plain": [
              "<Figure size 640x480 with 1 Axes>"
            ],
            "image/png": "[encoded data removed]"
          },
          "metadata": {}
        }
      ],
      "source": [
        "#Using seaborn to visualize the distribution of the label Column\n",
        "sns.barplot(y_train.value_counts())"
      ]
    },
    {
      "cell_type": "markdown",
      "id": "9O4VSM88z8pl",
      "metadata": {
        "id": "9O4VSM88z8pl"
      },
      "source": [
        "## data preprocessing"
      ]
    },
    {
      "cell_type": "code",
      "execution_count": 15,
      "id": "4Ij4PrXmz8pn",
      "metadata": {
        "colab": {
          "base_uri": "https://localhost:8080/"
        },
        "id": "4Ij4PrXmz8pn",
        "outputId": "5d06f69e-723e-440c-d640-65975fd61f44"
      },
      "outputs": [
        {
          "output_type": "execute_result",
          "data": {
            "text/plain": [
              "text    0\n",
              "dtype: int64"
            ]
          },
          "metadata": {},
          "execution_count": 15
        }
      ],
      "source": [
        "#Missing values\n",
        "X_train.isnull().sum()\n",
        "#--> No missing values"
      ]
    },
    {
      "cell_type": "code",
      "execution_count": 16,
      "id": "IMgmtJcPz8po",
      "metadata": {
        "id": "IMgmtJcPz8po"
      },
      "outputs": [],
      "source": [
        "\n",
        "aux = pd.DataFrame()\n",
        "aux['text'] = X_train['text']\n",
        "aux['label'] = y_train"
      ]
    },
    {
      "cell_type": "code",
      "source": [
        "aux_test = pd.DataFrame()\n",
        "aux_test['text'] = X_test['text']\n",
        "aux_test['label'] = y_test"
      ],
      "metadata": {
        "id": "7rNsx-dGigQx"
      },
      "id": "7rNsx-dGigQx",
      "execution_count": 17,
      "outputs": []
    },
    {
      "cell_type": "code",
      "execution_count": 18,
      "id": "PHsoX6Siz8pq",
      "metadata": {
        "id": "PHsoX6Siz8pq"
      },
      "outputs": [],
      "source": [
        "def remove_consec_duplicates(s):\n",
        "    new_s = \"\"\n",
        "    prev = \"\"\n",
        "    for c in s:\n",
        "        if len(new_s) == 0:\n",
        "            new_s += c\n",
        "            # print(\"if 1 new_s\",new_s)\n",
        "            prev = c\n",
        "            #print(\"if 1 prev\",prev)\n",
        "        if c == prev and c!=\"h\" and c!=\"f\": # except \"h\"\n",
        "            continue\n",
        "        else:\n",
        "            new_s += c\n",
        "            #print(\"if 2 new_s\",new_s)\n",
        "            prev = c\n",
        "            #print(\"if 2 prev\",prev)\n",
        "    return new_s\n",
        "    # fonction tnaa7i l 7rouuf eli m3awdin consecutivement b khlef caractére h khatrou significatif pour \"hhhhhh\" qui exprime un sentiment positif parfois"
      ]
    },
    {
      "cell_type": "code",
      "execution_count": 19,
      "id": "iTBvpG7Yz8ps",
      "metadata": {
        "id": "iTBvpG7Yz8ps",
        "scrolled": false
      },
      "outputs": [],
      "source": [
        "aux[\"text\"]=aux['text'].apply(lambda x :remove_consec_duplicates(x))\n",
        "aux_test[\"text\"]=aux_test['text'].apply(lambda x :remove_consec_duplicates(x))"
      ]
    },
    {
      "cell_type": "code",
      "execution_count": 20,
      "id": "E06QKU-pz8pu",
      "metadata": {
        "id": "E06QKU-pz8pu"
      },
      "outputs": [],
      "source": [
        "#train.compare(aux)"
      ]
    },
    {
      "cell_type": "code",
      "execution_count": 21,
      "id": "cS5FUaqBz8pv",
      "metadata": {
        "id": "cS5FUaqBz8pv"
      },
      "outputs": [],
      "source": [
        "def data_cleaning(text):\n",
        "    text = text.lower() #Make text lowercase\n",
        "    text = re.sub('\\[.*?\\]', '', text) #remove text in square brackets\n",
        "    text = re.sub('https?://\\S+|www\\.\\S+', '', text) #remove links\n",
        "    text = re.sub('<.*?>+', '', text) #remove text in <...>\n",
        "    text = re.sub('[%s]' % re.escape(string.punctuation), '', text) #remove punctuation\n",
        "    text = re.sub('\\n', '', text) #remove end of line character\n",
        "    text = re.sub('3','a',text)\n",
        "    text = re.sub('2','a',text)\n",
        "    text = re.sub('4','dh',text)\n",
        "    text = re.sub('5','kh',text)\n",
        "    text = re.sub('7','h',text)\n",
        "    text = re.sub('9','k',text)\n",
        "    text = re.sub('8','gh',text)\n",
        "    return text\n"
      ]
    },
    {
      "cell_type": "code",
      "execution_count": 22,
      "id": "gceJBKtHAHFX",
      "metadata": {
        "colab": {
          "base_uri": "https://localhost:8080/",
          "height": 206
        },
        "id": "gceJBKtHAHFX",
        "outputId": "6f1ac828-abe5-4ac8-fe61-2f73dc3f005d"
      },
      "outputs": [
        {
          "output_type": "execute_result",
          "data": {
            "text/plain": [
              "                                                     text  label\n",
              "101542  هوا خدم حاجة عمل مجهود باهيا خايبة ناس تحكم ان...      0\n",
              "29306   3leha hsine gandoura zebi joueret fin contrat ...      1\n",
              "27851   الزب احنى في من او صلنا كوم و هوما في جور في ك...      1\n",
              "960                                maniktha welamar jiran      1\n",
              "33331   عندك كلمة على روحك موش على توانس لكل والي قبلك...      0"
            ],
            "text/html": [
              "\n",
              "  <div id=\"df-a720ba9a-d3fd-4a02-a004-4239447e780e\" class=\"colab-df-container\">\n",
              "    <div>\n",
              "<style scoped>\n",
              "    .dataframe tbody tr th:only-of-type {\n",
              "        vertical-align: middle;\n",
              "    }\n",
              "\n",
              "    .dataframe tbody tr th {\n",
              "        vertical-align: top;\n",
              "    }\n",
              "\n",
              "    .dataframe thead th {\n",
              "        text-align: right;\n",
              "    }\n",
              "</style>\n",
              "<table border=\"1\" class=\"dataframe\">\n",
              "  <thead>\n",
              "    <tr style=\"text-align: right;\">\n",
              "      <th></th>\n",
              "      <th>text</th>\n",
              "      <th>label</th>\n",
              "    </tr>\n",
              "  </thead>\n",
              "  <tbody>\n",
              "    <tr>\n",
              "      <th>101542</th>\n",
              "      <td>هوا خدم حاجة عمل مجهود باهيا خايبة ناس تحكم ان...</td>\n",
              "      <td>0</td>\n",
              "    </tr>\n",
              "    <tr>\n",
              "      <th>29306</th>\n",
              "      <td>3leha hsine gandoura zebi joueret fin contrat ...</td>\n",
              "      <td>1</td>\n",
              "    </tr>\n",
              "    <tr>\n",
              "      <th>27851</th>\n",
              "      <td>الزب احنى في من او صلنا كوم و هوما في جور في ك...</td>\n",
              "      <td>1</td>\n",
              "    </tr>\n",
              "    <tr>\n",
              "      <th>960</th>\n",
              "      <td>maniktha welamar jiran</td>\n",
              "      <td>1</td>\n",
              "    </tr>\n",
              "    <tr>\n",
              "      <th>33331</th>\n",
              "      <td>عندك كلمة على روحك موش على توانس لكل والي قبلك...</td>\n",
              "      <td>0</td>\n",
              "    </tr>\n",
              "  </tbody>\n",
              "</table>\n",
              "</div>\n",
              "    <div class=\"colab-df-buttons\">\n",
              "\n",
              "  <div class=\"colab-df-container\">\n",
              "    <button class=\"colab-df-convert\" onclick=\"convertToInteractive('df-a720ba9a-d3fd-4a02-a004-4239447e780e')\"\n",
              "            title=\"Convert this dataframe to an interactive table.\"\n",
              "            style=\"display:none;\">\n",
              "\n",
              "  <svg xmlns=\"http://www.w3.org/2000/svg\" height=\"24px\" viewBox=\"0 -960 960 960\">\n",
              "    <path d=\"M120-120v-720h720v720H120Zm60-500h600v-160H180v160Zm220 220h160v-160H400v160Zm0 220h160v-160H400v160ZM180-400h160v-160H180v160Zm440 0h160v-160H620v160ZM180-180h160v-160H180v160Zm440 0h160v-160H620v160Z\"/>\n",
              "  </svg>\n",
              "    </button>\n",
              "\n",
              "  <style>\n",
              "    .colab-df-container {\n",
              "      display:flex;\n",
              "      gap: 12px;\n",
              "    }\n",
              "\n",
              "    .colab-df-convert {\n",
              "      background-color: #E8F0FE;\n",
              "      border: none;\n",
              "      border-radius: 50%;\n",
              "      cursor: pointer;\n",
              "      display: none;\n",
              "      fill: #1967D2;\n",
              "      height: 32px;\n",
              "      padding: 0 0 0 0;\n",
              "      width: 32px;\n",
              "    }\n",
              "\n",
              "    .colab-df-convert:hover {\n",
              "      background-color: #E2EBFA;\n",
              "      box-shadow: 0px 1px 2px rgba(60, 64, 67, 0.3), 0px 1px 3px 1px rgba(60, 64, 67, 0.15);\n",
              "      fill: #174EA6;\n",
              "    }\n",
              "\n",
              "    .colab-df-buttons div {\n",
              "      margin-bottom: 4px;\n",
              "    }\n",
              "\n",
              "    [theme=dark] .colab-df-convert {\n",
              "      background-color: #3B4455;\n",
              "      fill: #D2E3FC;\n",
              "    }\n",
              "\n",
              "    [theme=dark] .colab-df-convert:hover {\n",
              "      background-color: #434B5C;\n",
              "      box-shadow: 0px 1px 3px 1px rgba(0, 0, 0, 0.15);\n",
              "      filter: drop-shadow(0px 1px 2px rgba(0, 0, 0, 0.3));\n",
              "      fill: #FFFFFF;\n",
              "    }\n",
              "  </style>\n",
              "\n",
              "    <script>\n",
              "      const buttonEl =\n",
              "        document.querySelector('#df-a720ba9a-d3fd-4a02-a004-4239447e780e button.colab-df-convert');\n",
              "      buttonEl.style.display =\n",
              "        google.colab.kernel.accessAllowed ? 'block' : 'none';\n",
              "\n",
              "      async function convertToInteractive(key) {\n",
              "        const element = document.querySelector('#df-a720ba9a-d3fd-4a02-a004-4239447e780e');\n",
              "        const dataTable =\n",
              "          await google.colab.kernel.invokeFunction('convertToInteractive',\n",
              "                                                    [key], {});\n",
              "        if (!dataTable) return;\n",
              "\n",
              "        const docLinkHtml = 'Like what you see? Visit the ' +\n",
              "          '<a target=\"_blank\" href=https://colab.research.google.com/notebooks/data_table.ipynb>data table notebook</a>'\n",
              "          + ' to learn more about interactive tables.';\n",
              "        element.innerHTML = '';\n",
              "        dataTable['output_type'] = 'display_data';\n",
              "        await google.colab.output.renderOutput(dataTable, element);\n",
              "        const docLink = document.createElement('div');\n",
              "        docLink.innerHTML = docLinkHtml;\n",
              "        element.appendChild(docLink);\n",
              "      }\n",
              "    </script>\n",
              "  </div>\n",
              "\n",
              "\n",
              "<div id=\"df-d322ef8e-80d0-4a3e-8715-fa6151905a06\">\n",
              "  <button class=\"colab-df-quickchart\" onclick=\"quickchart('df-d322ef8e-80d0-4a3e-8715-fa6151905a06')\"\n",
              "            title=\"Suggest charts\"\n",
              "            style=\"display:none;\">\n",
              "\n",
              "<svg xmlns=\"http://www.w3.org/2000/svg\" height=\"24px\"viewBox=\"0 0 24 24\"\n",
              "     width=\"24px\">\n",
              "    <g>\n",
              "        <path d=\"M19 3H5c-1.1 0-2 .9-2 2v14c0 1.1.9 2 2 2h14c1.1 0 2-.9 2-2V5c0-1.1-.9-2-2-2zM9 17H7v-7h2v7zm4 0h-2V7h2v10zm4 0h-2v-4h2v4z\"/>\n",
              "    </g>\n",
              "</svg>\n",
              "  </button>\n",
              "\n",
              "<style>\n",
              "  .colab-df-quickchart {\n",
              "      --bg-color: #E8F0FE;\n",
              "      --fill-color: #1967D2;\n",
              "      --hover-bg-color: #E2EBFA;\n",
              "      --hover-fill-color: #174EA6;\n",
              "      --disabled-fill-color: #AAA;\n",
              "      --disabled-bg-color: #DDD;\n",
              "  }\n",
              "\n",
              "  [theme=dark] .colab-df-quickchart {\n",
              "      --bg-color: #3B4455;\n",
              "      --fill-color: #D2E3FC;\n",
              "      --hover-bg-color: #434B5C;\n",
              "      --hover-fill-color: #FFFFFF;\n",
              "      --disabled-bg-color: #3B4455;\n",
              "      --disabled-fill-color: #666;\n",
              "  }\n",
              "\n",
              "  .colab-df-quickchart {\n",
              "    background-color: var(--bg-color);\n",
              "    border: none;\n",
              "    border-radius: 50%;\n",
              "    cursor: pointer;\n",
              "    display: none;\n",
              "    fill: var(--fill-color);\n",
              "    height: 32px;\n",
              "    padding: 0;\n",
              "    width: 32px;\n",
              "  }\n",
              "\n",
              "  .colab-df-quickchart:hover {\n",
              "    background-color: var(--hover-bg-color);\n",
              "    box-shadow: 0 1px 2px rgba(60, 64, 67, 0.3), 0 1px 3px 1px rgba(60, 64, 67, 0.15);\n",
              "    fill: var(--button-hover-fill-color);\n",
              "  }\n",
              "\n",
              "  .colab-df-quickchart-complete:disabled,\n",
              "  .colab-df-quickchart-complete:disabled:hover {\n",
              "    background-color: var(--disabled-bg-color);\n",
              "    fill: var(--disabled-fill-color);\n",
              "    box-shadow: none;\n",
              "  }\n",
              "\n",
              "  .colab-df-spinner {\n",
              "    border: 2px solid var(--fill-color);\n",
              "    border-color: transparent;\n",
              "    border-bottom-color: var(--fill-color);\n",
              "    animation:\n",
              "      spin 1s steps(1) infinite;\n",
              "  }\n",
              "\n",
              "  @keyframes spin {\n",
              "    0% {\n",
              "      border-color: transparent;\n",
              "      border-bottom-color: var(--fill-color);\n",
              "      border-left-color: var(--fill-color);\n",
              "    }\n",
              "    20% {\n",
              "      border-color: transparent;\n",
              "      border-left-color: var(--fill-color);\n",
              "      border-top-color: var(--fill-color);\n",
              "    }\n",
              "    30% {\n",
              "      border-color: transparent;\n",
              "      border-left-color: var(--fill-color);\n",
              "      border-top-color: var(--fill-color);\n",
              "      border-right-color: var(--fill-color);\n",
              "    }\n",
              "    40% {\n",
              "      border-color: transparent;\n",
              "      border-right-color: var(--fill-color);\n",
              "      border-top-color: var(--fill-color);\n",
              "    }\n",
              "    60% {\n",
              "      border-color: transparent;\n",
              "      border-right-color: var(--fill-color);\n",
              "    }\n",
              "    80% {\n",
              "      border-color: transparent;\n",
              "      border-right-color: var(--fill-color);\n",
              "      border-bottom-color: var(--fill-color);\n",
              "    }\n",
              "    90% {\n",
              "      border-color: transparent;\n",
              "      border-bottom-color: var(--fill-color);\n",
              "    }\n",
              "  }\n",
              "</style>\n",
              "\n",
              "  <script>\n",
              "    async function quickchart(key) {\n",
              "      const quickchartButtonEl =\n",
              "        document.querySelector('#' + key + ' button');\n",
              "      quickchartButtonEl.disabled = true;  // To prevent multiple clicks.\n",
              "      quickchartButtonEl.classList.add('colab-df-spinner');\n",
              "      try {\n",
              "        const charts = await google.colab.kernel.invokeFunction(\n",
              "            'suggestCharts', [key], {});\n",
              "      } catch (error) {\n",
              "        console.error('Error during call to suggestCharts:', error);\n",
              "      }\n",
              "      quickchartButtonEl.classList.remove('colab-df-spinner');\n",
              "      quickchartButtonEl.classList.add('colab-df-quickchart-complete');\n",
              "    }\n",
              "    (() => {\n",
              "      let quickchartButtonEl =\n",
              "        document.querySelector('#df-d322ef8e-80d0-4a3e-8715-fa6151905a06 button');\n",
              "      quickchartButtonEl.style.display =\n",
              "        google.colab.kernel.accessAllowed ? 'block' : 'none';\n",
              "    })();\n",
              "  </script>\n",
              "</div>\n",
              "    </div>\n",
              "  </div>\n"
            ],
            "application/vnd.google.colaboratory.intrinsic+json": {
              "type": "dataframe",
              "variable_name": "aux",
              "summary": "{\n  \"name\": \"aux\",\n  \"rows\": 95664,\n  \"fields\": [\n    {\n      \"column\": \"text\",\n      \"properties\": {\n        \"dtype\": \"string\",\n        \"num_unique_values\": 74188,\n        \"samples\": [\n          \"\\u0646\\u0639\\u062f\\u0648\\u0643 \\u0627\\u0644\\u064a \\u0645\\u0648\\u0634 \\u0627\\u0644\\u064a \\u064a\\u0645\\u0634\\u064a \\u0627\\u0644\\u0642\\u0635\\u0627\\u0631 \\u0643\\u0631\\u062a\\u0627\\u062c \\u0647\\u0648\\u0627 \\u0627\\u0644\\u064a \\u064a\\u0631\\u0628\\u062d \\u0645\\u0639\\u0627\\u0646\\u0627 \\u0631\\u0628\\u064a \\u0628\\u0646 \\u0643\\u0646\\u062a\\u0648\\u0646\\u0627\\u062a\\u064a\\u0646 \\u0631\\u064a\\u0627\\u062d\\u064a\",\n          \"\\u064a\\u0627 \\u0627\\u0645\\u064a\\u0646 \\u064a\\u0627 \\u0633\\u062e\\u0637\\u0647 \\u0645\\u062e\\u0644\\u064a \\u0634\\u064a\\u062e \\u0648 \\u062a\\u0627\\u062e\\u0630 \\u0641\\u064a \\u0631\\u0627\\u064a\\u0647\\u0627 \\u0648 \\u0632\\u064a\\u062f \\u0639\\u0644\\u0627 \\u0647\\u0630\\u0627 \\u062a\\u0642\\u0635 \\u0639\\u0644\\u064a\\u0647 \\u0648 \\u0645\\u0627 \\u062e\\u0644\\u064a\\u062a\\u0648\\u0634 \\u064a\\u0641\\u0647\\u0645\\u0648 \\u0647\\u0630\\u0627 \\u0646\\u0648\\u0631\\u0645\\u0627\\u0644\",\n          \"inchalah romdhanek mabrouk\"\n        ],\n        \"semantic_type\": \"\",\n        \"description\": \"\"\n      }\n    },\n    {\n      \"column\": \"label\",\n      \"properties\": {\n        \"dtype\": \"number\",\n        \"std\": 0,\n        \"min\": 0,\n        \"max\": 1,\n        \"num_unique_values\": 2,\n        \"samples\": [\n          1,\n          0\n        ],\n        \"semantic_type\": \"\",\n        \"description\": \"\"\n      }\n    }\n  ]\n}"
            }
          },
          "metadata": {},
          "execution_count": 22
        }
      ],
      "source": [
        "aux.head()"
      ]
    },
    {
      "cell_type": "code",
      "execution_count": 23,
      "id": "P2VtW7pcz8pw",
      "metadata": {
        "id": "P2VtW7pcz8pw"
      },
      "outputs": [],
      "source": [
        "aux['text'] = aux['text'].apply(lambda x: data_cleaning(x))\n",
        "aux_test['text'] = aux_test['text'].apply(lambda x: data_cleaning(x))"
      ]
    },
    {
      "cell_type": "code",
      "execution_count": 24,
      "id": "ikEixDwJz8px",
      "metadata": {
        "colab": {
          "base_uri": "https://localhost:8080/",
          "height": 206
        },
        "id": "ikEixDwJz8px",
        "outputId": "a2cef972-3390-42d3-ec68-ed37f9243230"
      },
      "outputs": [
        {
          "output_type": "execute_result",
          "data": {
            "text/plain": [
              "                                                     text  label\n",
              "101542  هوا خدم حاجة عمل مجهود باهيا خايبة ناس تحكم ان...      0\n",
              "29306   aleha hsine gandoura zebi joueret fin contrat ...      1\n",
              "27851   الزب احنى في من او صلنا كوم و هوما في جور في ك...      1\n",
              "960                                maniktha welamar jiran      1\n",
              "33331   عندك كلمة على روحك موش على توانس لكل والي قبلك...      0"
            ],
            "text/html": [
              "\n",
              "  <div id=\"df-f72a299e-0e05-46c4-ad9b-32adc6190697\" class=\"colab-df-container\">\n",
              "    <div>\n",
              "<style scoped>\n",
              "    .dataframe tbody tr th:only-of-type {\n",
              "        vertical-align: middle;\n",
              "    }\n",
              "\n",
              "    .dataframe tbody tr th {\n",
              "        vertical-align: top;\n",
              "    }\n",
              "\n",
              "    .dataframe thead th {\n",
              "        text-align: right;\n",
              "    }\n",
              "</style>\n",
              "<table border=\"1\" class=\"dataframe\">\n",
              "  <thead>\n",
              "    <tr style=\"text-align: right;\">\n",
              "      <th></th>\n",
              "      <th>text</th>\n",
              "      <th>label</th>\n",
              "    </tr>\n",
              "  </thead>\n",
              "  <tbody>\n",
              "    <tr>\n",
              "      <th>101542</th>\n",
              "      <td>هوا خدم حاجة عمل مجهود باهيا خايبة ناس تحكم ان...</td>\n",
              "      <td>0</td>\n",
              "    </tr>\n",
              "    <tr>\n",
              "      <th>29306</th>\n",
              "      <td>aleha hsine gandoura zebi joueret fin contrat ...</td>\n",
              "      <td>1</td>\n",
              "    </tr>\n",
              "    <tr>\n",
              "      <th>27851</th>\n",
              "      <td>الزب احنى في من او صلنا كوم و هوما في جور في ك...</td>\n",
              "      <td>1</td>\n",
              "    </tr>\n",
              "    <tr>\n",
              "      <th>960</th>\n",
              "      <td>maniktha welamar jiran</td>\n",
              "      <td>1</td>\n",
              "    </tr>\n",
              "    <tr>\n",
              "      <th>33331</th>\n",
              "      <td>عندك كلمة على روحك موش على توانس لكل والي قبلك...</td>\n",
              "      <td>0</td>\n",
              "    </tr>\n",
              "  </tbody>\n",
              "</table>\n",
              "</div>\n",
              "    <div class=\"colab-df-buttons\">\n",
              "\n",
              "  <div class=\"colab-df-container\">\n",
              "    <button class=\"colab-df-convert\" onclick=\"convertToInteractive('df-f72a299e-0e05-46c4-ad9b-32adc6190697')\"\n",
              "            title=\"Convert this dataframe to an interactive table.\"\n",
              "            style=\"display:none;\">\n",
              "\n",
              "  <svg xmlns=\"http://www.w3.org/2000/svg\" height=\"24px\" viewBox=\"0 -960 960 960\">\n",
              "    <path d=\"M120-120v-720h720v720H120Zm60-500h600v-160H180v160Zm220 220h160v-160H400v160Zm0 220h160v-160H400v160ZM180-400h160v-160H180v160Zm440 0h160v-160H620v160ZM180-180h160v-160H180v160Zm440 0h160v-160H620v160Z\"/>\n",
              "  </svg>\n",
              "    </button>\n",
              "\n",
              "  <style>\n",
              "    .colab-df-container {\n",
              "      display:flex;\n",
              "      gap: 12px;\n",
              "    }\n",
              "\n",
              "    .colab-df-convert {\n",
              "      background-color: #E8F0FE;\n",
              "      border: none;\n",
              "      border-radius: 50%;\n",
              "      cursor: pointer;\n",
              "      display: none;\n",
              "      fill: #1967D2;\n",
              "      height: 32px;\n",
              "      padding: 0 0 0 0;\n",
              "      width: 32px;\n",
              "    }\n",
              "\n",
              "    .colab-df-convert:hover {\n",
              "      background-color: #E2EBFA;\n",
              "      box-shadow: 0px 1px 2px rgba(60, 64, 67, 0.3), 0px 1px 3px 1px rgba(60, 64, 67, 0.15);\n",
              "      fill: #174EA6;\n",
              "    }\n",
              "\n",
              "    .colab-df-buttons div {\n",
              "      margin-bottom: 4px;\n",
              "    }\n",
              "\n",
              "    [theme=dark] .colab-df-convert {\n",
              "      background-color: #3B4455;\n",
              "      fill: #D2E3FC;\n",
              "    }\n",
              "\n",
              "    [theme=dark] .colab-df-convert:hover {\n",
              "      background-color: #434B5C;\n",
              "      box-shadow: 0px 1px 3px 1px rgba(0, 0, 0, 0.15);\n",
              "      filter: drop-shadow(0px 1px 2px rgba(0, 0, 0, 0.3));\n",
              "      fill: #FFFFFF;\n",
              "    }\n",
              "  </style>\n",
              "\n",
              "    <script>\n",
              "      const buttonEl =\n",
              "        document.querySelector('#df-f72a299e-0e05-46c4-ad9b-32adc6190697 button.colab-df-convert');\n",
              "      buttonEl.style.display =\n",
              "        google.colab.kernel.accessAllowed ? 'block' : 'none';\n",
              "\n",
              "      async function convertToInteractive(key) {\n",
              "        const element = document.querySelector('#df-f72a299e-0e05-46c4-ad9b-32adc6190697');\n",
              "        const dataTable =\n",
              "          await google.colab.kernel.invokeFunction('convertToInteractive',\n",
              "                                                    [key], {});\n",
              "        if (!dataTable) return;\n",
              "\n",
              "        const docLinkHtml = 'Like what you see? Visit the ' +\n",
              "          '<a target=\"_blank\" href=https://colab.research.google.com/notebooks/data_table.ipynb>data table notebook</a>'\n",
              "          + ' to learn more about interactive tables.';\n",
              "        element.innerHTML = '';\n",
              "        dataTable['output_type'] = 'display_data';\n",
              "        await google.colab.output.renderOutput(dataTable, element);\n",
              "        const docLink = document.createElement('div');\n",
              "        docLink.innerHTML = docLinkHtml;\n",
              "        element.appendChild(docLink);\n",
              "      }\n",
              "    </script>\n",
              "  </div>\n",
              "\n",
              "\n",
              "<div id=\"df-dc037a23-7d54-431f-823a-5c9b845d7981\">\n",
              "  <button class=\"colab-df-quickchart\" onclick=\"quickchart('df-dc037a23-7d54-431f-823a-5c9b845d7981')\"\n",
              "            title=\"Suggest charts\"\n",
              "            style=\"display:none;\">\n",
              "\n",
              "<svg xmlns=\"http://www.w3.org/2000/svg\" height=\"24px\"viewBox=\"0 0 24 24\"\n",
              "     width=\"24px\">\n",
              "    <g>\n",
              "        <path d=\"M19 3H5c-1.1 0-2 .9-2 2v14c0 1.1.9 2 2 2h14c1.1 0 2-.9 2-2V5c0-1.1-.9-2-2-2zM9 17H7v-7h2v7zm4 0h-2V7h2v10zm4 0h-2v-4h2v4z\"/>\n",
              "    </g>\n",
              "</svg>\n",
              "  </button>\n",
              "\n",
              "<style>\n",
              "  .colab-df-quickchart {\n",
              "      --bg-color: #E8F0FE;\n",
              "      --fill-color: #1967D2;\n",
              "      --hover-bg-color: #E2EBFA;\n",
              "      --hover-fill-color: #174EA6;\n",
              "      --disabled-fill-color: #AAA;\n",
              "      --disabled-bg-color: #DDD;\n",
              "  }\n",
              "\n",
              "  [theme=dark] .colab-df-quickchart {\n",
              "      --bg-color: #3B4455;\n",
              "      --fill-color: #D2E3FC;\n",
              "      --hover-bg-color: #434B5C;\n",
              "      --hover-fill-color: #FFFFFF;\n",
              "      --disabled-bg-color: #3B4455;\n",
              "      --disabled-fill-color: #666;\n",
              "  }\n",
              "\n",
              "  .colab-df-quickchart {\n",
              "    background-color: var(--bg-color);\n",
              "    border: none;\n",
              "    border-radius: 50%;\n",
              "    cursor: pointer;\n",
              "    display: none;\n",
              "    fill: var(--fill-color);\n",
              "    height: 32px;\n",
              "    padding: 0;\n",
              "    width: 32px;\n",
              "  }\n",
              "\n",
              "  .colab-df-quickchart:hover {\n",
              "    background-color: var(--hover-bg-color);\n",
              "    box-shadow: 0 1px 2px rgba(60, 64, 67, 0.3), 0 1px 3px 1px rgba(60, 64, 67, 0.15);\n",
              "    fill: var(--button-hover-fill-color);\n",
              "  }\n",
              "\n",
              "  .colab-df-quickchart-complete:disabled,\n",
              "  .colab-df-quickchart-complete:disabled:hover {\n",
              "    background-color: var(--disabled-bg-color);\n",
              "    fill: var(--disabled-fill-color);\n",
              "    box-shadow: none;\n",
              "  }\n",
              "\n",
              "  .colab-df-spinner {\n",
              "    border: 2px solid var(--fill-color);\n",
              "    border-color: transparent;\n",
              "    border-bottom-color: var(--fill-color);\n",
              "    animation:\n",
              "      spin 1s steps(1) infinite;\n",
              "  }\n",
              "\n",
              "  @keyframes spin {\n",
              "    0% {\n",
              "      border-color: transparent;\n",
              "      border-bottom-color: var(--fill-color);\n",
              "      border-left-color: var(--fill-color);\n",
              "    }\n",
              "    20% {\n",
              "      border-color: transparent;\n",
              "      border-left-color: var(--fill-color);\n",
              "      border-top-color: var(--fill-color);\n",
              "    }\n",
              "    30% {\n",
              "      border-color: transparent;\n",
              "      border-left-color: var(--fill-color);\n",
              "      border-top-color: var(--fill-color);\n",
              "      border-right-color: var(--fill-color);\n",
              "    }\n",
              "    40% {\n",
              "      border-color: transparent;\n",
              "      border-right-color: var(--fill-color);\n",
              "      border-top-color: var(--fill-color);\n",
              "    }\n",
              "    60% {\n",
              "      border-color: transparent;\n",
              "      border-right-color: var(--fill-color);\n",
              "    }\n",
              "    80% {\n",
              "      border-color: transparent;\n",
              "      border-right-color: var(--fill-color);\n",
              "      border-bottom-color: var(--fill-color);\n",
              "    }\n",
              "    90% {\n",
              "      border-color: transparent;\n",
              "      border-bottom-color: var(--fill-color);\n",
              "    }\n",
              "  }\n",
              "</style>\n",
              "\n",
              "  <script>\n",
              "    async function quickchart(key) {\n",
              "      const quickchartButtonEl =\n",
              "        document.querySelector('#' + key + ' button');\n",
              "      quickchartButtonEl.disabled = true;  // To prevent multiple clicks.\n",
              "      quickchartButtonEl.classList.add('colab-df-spinner');\n",
              "      try {\n",
              "        const charts = await google.colab.kernel.invokeFunction(\n",
              "            'suggestCharts', [key], {});\n",
              "      } catch (error) {\n",
              "        console.error('Error during call to suggestCharts:', error);\n",
              "      }\n",
              "      quickchartButtonEl.classList.remove('colab-df-spinner');\n",
              "      quickchartButtonEl.classList.add('colab-df-quickchart-complete');\n",
              "    }\n",
              "    (() => {\n",
              "      let quickchartButtonEl =\n",
              "        document.querySelector('#df-dc037a23-7d54-431f-823a-5c9b845d7981 button');\n",
              "      quickchartButtonEl.style.display =\n",
              "        google.colab.kernel.accessAllowed ? 'block' : 'none';\n",
              "    })();\n",
              "  </script>\n",
              "</div>\n",
              "    </div>\n",
              "  </div>\n"
            ],
            "application/vnd.google.colaboratory.intrinsic+json": {
              "type": "dataframe",
              "variable_name": "aux",
              "summary": "{\n  \"name\": \"aux\",\n  \"rows\": 95664,\n  \"fields\": [\n    {\n      \"column\": \"text\",\n      \"properties\": {\n        \"dtype\": \"string\",\n        \"num_unique_values\": 74069,\n        \"samples\": [\n          \"\\u0648\\u064a\\u0646 \\u0646\\u062c\\u0645 \\u0646\\u0639\\u0645\\u0644 \\u0641\\u064a\\u0644\\u0645\",\n          \"abonements play of\",\n          \"ikolik thib taaref aamor limraa ishih rakbitha ideha\"\n        ],\n        \"semantic_type\": \"\",\n        \"description\": \"\"\n      }\n    },\n    {\n      \"column\": \"label\",\n      \"properties\": {\n        \"dtype\": \"number\",\n        \"std\": 0,\n        \"min\": 0,\n        \"max\": 1,\n        \"num_unique_values\": 2,\n        \"samples\": [\n          1,\n          0\n        ],\n        \"semantic_type\": \"\",\n        \"description\": \"\"\n      }\n    }\n  ]\n}"
            }
          },
          "metadata": {},
          "execution_count": 24
        }
      ],
      "source": [
        "\n",
        "aux.head()"
      ]
    },
    {
      "cell_type": "code",
      "execution_count": 25,
      "id": "sKEqT1zPR2Eq",
      "metadata": {
        "id": "sKEqT1zPR2Eq"
      },
      "outputs": [],
      "source": [
        "#removing words with a length less than 2\n",
        "aux[\"text\"] = aux[\"text\"].apply(lambda x: \" \".join([w for w in x.split() if len(w)>2]))\n",
        "aux_test[\"text\"] = X_test[\"text\"].apply(lambda x: \" \".join([w for w in x.split() if len(w)>2]))"
      ]
    },
    {
      "cell_type": "code",
      "execution_count": 26,
      "id": "fZkaZXuZz8p1",
      "metadata": {
        "colab": {
          "base_uri": "https://localhost:8080/"
        },
        "id": "fZkaZXuZz8p1",
        "outputId": "b2ee8d19-ea03-464d-e0e2-acb7d3bdccf2"
      },
      "outputs": [
        {
          "output_type": "stream",
          "name": "stdout",
          "text": [
            "Number of tokens before normalization: 159467\n",
            "Number of tokens after normalization: 150823\n",
            "Number of words dropped after normalization and preprocessing is 8644\n"
          ]
        }
      ],
      "source": [
        "#size of vocabulary before and after preprocessing\n",
        "corpus1 = ' '.join(list(X_train['text']))\n",
        "\n",
        "print('Number of tokens before normalization:',len(set((corpus1.split(' ')))))\n",
        "\n",
        "corpus2 = ' '.join(list(aux['text']))\n",
        "\n",
        "print('Number of tokens after normalization:',len(set((corpus2.split(' ')))))\n",
        "\n",
        "print(\"Number of words dropped after normalization and preprocessing is\",len(set((corpus1.split(' '))))-len(set((corpus2.split(' ')))))"
      ]
    },
    {
      "cell_type": "markdown",
      "id": "53yZldXBz8p2",
      "metadata": {
        "id": "53yZldXBz8p2"
      },
      "source": [
        "# Word cloud"
      ]
    },
    {
      "cell_type": "code",
      "execution_count": 27,
      "id": "4mbZfofJz8p3",
      "metadata": {
        "id": "4mbZfofJz8p3",
        "collapsed": true,
        "colab": {
          "base_uri": "https://localhost:8080/"
        },
        "outputId": "839e3434-d543-4972-b3c8-ece3acb184be"
      },
      "outputs": [
        {
          "output_type": "stream",
          "name": "stdout",
          "text": [
            "Requirement already satisfied: wordcloud in /usr/local/lib/python3.10/dist-packages (1.9.3)\n",
            "Requirement already satisfied: matplotlib in /usr/local/lib/python3.10/dist-packages (3.7.1)\n",
            "Requirement already satisfied: arabic-reshaper in /usr/local/lib/python3.10/dist-packages (3.0.0)\n",
            "Requirement already satisfied: python-bidi in /usr/local/lib/python3.10/dist-packages (0.4.2)\n",
            "Requirement already satisfied: numpy>=1.6.1 in /usr/local/lib/python3.10/dist-packages (from wordcloud) (1.25.2)\n",
            "Requirement already satisfied: pillow in /usr/local/lib/python3.10/dist-packages (from wordcloud) (9.4.0)\n",
            "Requirement already satisfied: contourpy>=1.0.1 in /usr/local/lib/python3.10/dist-packages (from matplotlib) (1.2.1)\n",
            "Requirement already satisfied: cycler>=0.10 in /usr/local/lib/python3.10/dist-packages (from matplotlib) (0.12.1)\n",
            "Requirement already satisfied: fonttools>=4.22.0 in /usr/local/lib/python3.10/dist-packages (from matplotlib) (4.53.0)\n",
            "Requirement already satisfied: kiwisolver>=1.0.1 in /usr/local/lib/python3.10/dist-packages (from matplotlib) (1.4.5)\n",
            "Requirement already satisfied: packaging>=20.0 in /usr/local/lib/python3.10/dist-packages (from matplotlib) (24.0)\n",
            "Requirement already satisfied: pyparsing>=2.3.1 in /usr/local/lib/python3.10/dist-packages (from matplotlib) (3.1.2)\n",
            "Requirement already satisfied: python-dateutil>=2.7 in /usr/local/lib/python3.10/dist-packages (from matplotlib) (2.8.2)\n",
            "Requirement already satisfied: six in /usr/local/lib/python3.10/dist-packages (from python-bidi) (1.16.0)\n"
          ]
        }
      ],
      "source": [
        "!pip install wordcloud matplotlib arabic-reshaper python-bidi"
      ]
    },
    {
      "cell_type": "code",
      "execution_count": 28,
      "id": "tX0t0fG7HFph",
      "metadata": {
        "id": "tX0t0fG7HFph",
        "colab": {
          "base_uri": "https://localhost:8080/"
        },
        "collapsed": true,
        "outputId": "5a706fc7-7360-45e7-b826-d85a373d2d2d"
      },
      "outputs": [
        {
          "output_type": "stream",
          "name": "stdout",
          "text": [
            "Requirement already satisfied: langdetect in /usr/local/lib/python3.10/dist-packages (1.0.9)\n",
            "Requirement already satisfied: six in /usr/local/lib/python3.10/dist-packages (from langdetect) (1.16.0)\n"
          ]
        }
      ],
      "source": [
        "pip install langdetect"
      ]
    },
    {
      "cell_type": "code",
      "execution_count": 29,
      "id": "VtQBhOg8F_X_",
      "metadata": {
        "id": "VtQBhOg8F_X_"
      },
      "outputs": [],
      "source": [
        "from arabic_reshaper import reshape\n",
        "from bidi.algorithm import get_display"
      ]
    },
    {
      "cell_type": "code",
      "execution_count": 30,
      "id": "FrO2fFL9BYH_",
      "metadata": {
        "colab": {
          "base_uri": "https://localhost:8080/",
          "height": 520
        },
        "id": "FrO2fFL9BYH_",
        "outputId": "1e4ef2fc-c13b-4efa-9e74-d33912cce701"
      },
      "outputs": [
        {
          "output_type": "execute_result",
          "data": {
            "text/plain": [
              "                                                     text  label\n",
              "98973   أنا حالة رئيس مجلس نواب الشعب يلزم يحلف القسم ...      0\n",
              "50441                                ahla sabir ahla sout      0\n",
              "54283   rien come avant beaucoup trop long cafe totale...      1\n",
              "27562                             امايمة خريجي صبرين امان      0\n",
              "45249        rajaelna etijeni belaid nendmou yejael menek      0\n",
              "70041   yehmikom weyostorkom tounesna elgalia yehmikom...      0\n",
              "75412   lahkika mchit dernierement smug martine prendr...      0\n",
              "114967       صراحة لاعب هذا شنوة ريحت طابونة هاذي كثرولها      0\n",
              "34700                     rasmi lihlaybi kimat safk kmilm      0\n",
              "54998                                       entoupa sorek      1\n",
              "53014                                 tabarka ilah alihom      0\n",
              "76434                                         bravo maysa      0\n",
              "83597   chokran likom sidi elrayes ala hth elkelma wnt...      0\n",
              "1848                                      مالا جور مساكني      0\n",
              "42933   cher merci bien cete petite jeste juste habit ...      0"
            ],
            "text/html": [
              "\n",
              "  <div id=\"df-3ef22408-55a6-489e-8502-799cd5404cf6\" class=\"colab-df-container\">\n",
              "    <div>\n",
              "<style scoped>\n",
              "    .dataframe tbody tr th:only-of-type {\n",
              "        vertical-align: middle;\n",
              "    }\n",
              "\n",
              "    .dataframe tbody tr th {\n",
              "        vertical-align: top;\n",
              "    }\n",
              "\n",
              "    .dataframe thead th {\n",
              "        text-align: right;\n",
              "    }\n",
              "</style>\n",
              "<table border=\"1\" class=\"dataframe\">\n",
              "  <thead>\n",
              "    <tr style=\"text-align: right;\">\n",
              "      <th></th>\n",
              "      <th>text</th>\n",
              "      <th>label</th>\n",
              "    </tr>\n",
              "  </thead>\n",
              "  <tbody>\n",
              "    <tr>\n",
              "      <th>98973</th>\n",
              "      <td>أنا حالة رئيس مجلس نواب الشعب يلزم يحلف القسم ...</td>\n",
              "      <td>0</td>\n",
              "    </tr>\n",
              "    <tr>\n",
              "      <th>50441</th>\n",
              "      <td>ahla sabir ahla sout</td>\n",
              "      <td>0</td>\n",
              "    </tr>\n",
              "    <tr>\n",
              "      <th>54283</th>\n",
              "      <td>rien come avant beaucoup trop long cafe totale...</td>\n",
              "      <td>1</td>\n",
              "    </tr>\n",
              "    <tr>\n",
              "      <th>27562</th>\n",
              "      <td>امايمة خريجي صبرين امان</td>\n",
              "      <td>0</td>\n",
              "    </tr>\n",
              "    <tr>\n",
              "      <th>45249</th>\n",
              "      <td>rajaelna etijeni belaid nendmou yejael menek</td>\n",
              "      <td>0</td>\n",
              "    </tr>\n",
              "    <tr>\n",
              "      <th>70041</th>\n",
              "      <td>yehmikom weyostorkom tounesna elgalia yehmikom...</td>\n",
              "      <td>0</td>\n",
              "    </tr>\n",
              "    <tr>\n",
              "      <th>75412</th>\n",
              "      <td>lahkika mchit dernierement smug martine prendr...</td>\n",
              "      <td>0</td>\n",
              "    </tr>\n",
              "    <tr>\n",
              "      <th>114967</th>\n",
              "      <td>صراحة لاعب هذا شنوة ريحت طابونة هاذي كثرولها</td>\n",
              "      <td>0</td>\n",
              "    </tr>\n",
              "    <tr>\n",
              "      <th>34700</th>\n",
              "      <td>rasmi lihlaybi kimat safk kmilm</td>\n",
              "      <td>0</td>\n",
              "    </tr>\n",
              "    <tr>\n",
              "      <th>54998</th>\n",
              "      <td>entoupa sorek</td>\n",
              "      <td>1</td>\n",
              "    </tr>\n",
              "    <tr>\n",
              "      <th>53014</th>\n",
              "      <td>tabarka ilah alihom</td>\n",
              "      <td>0</td>\n",
              "    </tr>\n",
              "    <tr>\n",
              "      <th>76434</th>\n",
              "      <td>bravo maysa</td>\n",
              "      <td>0</td>\n",
              "    </tr>\n",
              "    <tr>\n",
              "      <th>83597</th>\n",
              "      <td>chokran likom sidi elrayes ala hth elkelma wnt...</td>\n",
              "      <td>0</td>\n",
              "    </tr>\n",
              "    <tr>\n",
              "      <th>1848</th>\n",
              "      <td>مالا جور مساكني</td>\n",
              "      <td>0</td>\n",
              "    </tr>\n",
              "    <tr>\n",
              "      <th>42933</th>\n",
              "      <td>cher merci bien cete petite jeste juste habit ...</td>\n",
              "      <td>0</td>\n",
              "    </tr>\n",
              "  </tbody>\n",
              "</table>\n",
              "</div>\n",
              "    <div class=\"colab-df-buttons\">\n",
              "\n",
              "  <div class=\"colab-df-container\">\n",
              "    <button class=\"colab-df-convert\" onclick=\"convertToInteractive('df-3ef22408-55a6-489e-8502-799cd5404cf6')\"\n",
              "            title=\"Convert this dataframe to an interactive table.\"\n",
              "            style=\"display:none;\">\n",
              "\n",
              "  <svg xmlns=\"http://www.w3.org/2000/svg\" height=\"24px\" viewBox=\"0 -960 960 960\">\n",
              "    <path d=\"M120-120v-720h720v720H120Zm60-500h600v-160H180v160Zm220 220h160v-160H400v160Zm0 220h160v-160H400v160ZM180-400h160v-160H180v160Zm440 0h160v-160H620v160ZM180-180h160v-160H180v160Zm440 0h160v-160H620v160Z\"/>\n",
              "  </svg>\n",
              "    </button>\n",
              "\n",
              "  <style>\n",
              "    .colab-df-container {\n",
              "      display:flex;\n",
              "      gap: 12px;\n",
              "    }\n",
              "\n",
              "    .colab-df-convert {\n",
              "      background-color: #E8F0FE;\n",
              "      border: none;\n",
              "      border-radius: 50%;\n",
              "      cursor: pointer;\n",
              "      display: none;\n",
              "      fill: #1967D2;\n",
              "      height: 32px;\n",
              "      padding: 0 0 0 0;\n",
              "      width: 32px;\n",
              "    }\n",
              "\n",
              "    .colab-df-convert:hover {\n",
              "      background-color: #E2EBFA;\n",
              "      box-shadow: 0px 1px 2px rgba(60, 64, 67, 0.3), 0px 1px 3px 1px rgba(60, 64, 67, 0.15);\n",
              "      fill: #174EA6;\n",
              "    }\n",
              "\n",
              "    .colab-df-buttons div {\n",
              "      margin-bottom: 4px;\n",
              "    }\n",
              "\n",
              "    [theme=dark] .colab-df-convert {\n",
              "      background-color: #3B4455;\n",
              "      fill: #D2E3FC;\n",
              "    }\n",
              "\n",
              "    [theme=dark] .colab-df-convert:hover {\n",
              "      background-color: #434B5C;\n",
              "      box-shadow: 0px 1px 3px 1px rgba(0, 0, 0, 0.15);\n",
              "      filter: drop-shadow(0px 1px 2px rgba(0, 0, 0, 0.3));\n",
              "      fill: #FFFFFF;\n",
              "    }\n",
              "  </style>\n",
              "\n",
              "    <script>\n",
              "      const buttonEl =\n",
              "        document.querySelector('#df-3ef22408-55a6-489e-8502-799cd5404cf6 button.colab-df-convert');\n",
              "      buttonEl.style.display =\n",
              "        google.colab.kernel.accessAllowed ? 'block' : 'none';\n",
              "\n",
              "      async function convertToInteractive(key) {\n",
              "        const element = document.querySelector('#df-3ef22408-55a6-489e-8502-799cd5404cf6');\n",
              "        const dataTable =\n",
              "          await google.colab.kernel.invokeFunction('convertToInteractive',\n",
              "                                                    [key], {});\n",
              "        if (!dataTable) return;\n",
              "\n",
              "        const docLinkHtml = 'Like what you see? Visit the ' +\n",
              "          '<a target=\"_blank\" href=https://colab.research.google.com/notebooks/data_table.ipynb>data table notebook</a>'\n",
              "          + ' to learn more about interactive tables.';\n",
              "        element.innerHTML = '';\n",
              "        dataTable['output_type'] = 'display_data';\n",
              "        await google.colab.output.renderOutput(dataTable, element);\n",
              "        const docLink = document.createElement('div');\n",
              "        docLink.innerHTML = docLinkHtml;\n",
              "        element.appendChild(docLink);\n",
              "      }\n",
              "    </script>\n",
              "  </div>\n",
              "\n",
              "\n",
              "<div id=\"df-bc09b6cd-599e-4737-ad6f-e5de8b7bbbfa\">\n",
              "  <button class=\"colab-df-quickchart\" onclick=\"quickchart('df-bc09b6cd-599e-4737-ad6f-e5de8b7bbbfa')\"\n",
              "            title=\"Suggest charts\"\n",
              "            style=\"display:none;\">\n",
              "\n",
              "<svg xmlns=\"http://www.w3.org/2000/svg\" height=\"24px\"viewBox=\"0 0 24 24\"\n",
              "     width=\"24px\">\n",
              "    <g>\n",
              "        <path d=\"M19 3H5c-1.1 0-2 .9-2 2v14c0 1.1.9 2 2 2h14c1.1 0 2-.9 2-2V5c0-1.1-.9-2-2-2zM9 17H7v-7h2v7zm4 0h-2V7h2v10zm4 0h-2v-4h2v4z\"/>\n",
              "    </g>\n",
              "</svg>\n",
              "  </button>\n",
              "\n",
              "<style>\n",
              "  .colab-df-quickchart {\n",
              "      --bg-color: #E8F0FE;\n",
              "      --fill-color: #1967D2;\n",
              "      --hover-bg-color: #E2EBFA;\n",
              "      --hover-fill-color: #174EA6;\n",
              "      --disabled-fill-color: #AAA;\n",
              "      --disabled-bg-color: #DDD;\n",
              "  }\n",
              "\n",
              "  [theme=dark] .colab-df-quickchart {\n",
              "      --bg-color: #3B4455;\n",
              "      --fill-color: #D2E3FC;\n",
              "      --hover-bg-color: #434B5C;\n",
              "      --hover-fill-color: #FFFFFF;\n",
              "      --disabled-bg-color: #3B4455;\n",
              "      --disabled-fill-color: #666;\n",
              "  }\n",
              "\n",
              "  .colab-df-quickchart {\n",
              "    background-color: var(--bg-color);\n",
              "    border: none;\n",
              "    border-radius: 50%;\n",
              "    cursor: pointer;\n",
              "    display: none;\n",
              "    fill: var(--fill-color);\n",
              "    height: 32px;\n",
              "    padding: 0;\n",
              "    width: 32px;\n",
              "  }\n",
              "\n",
              "  .colab-df-quickchart:hover {\n",
              "    background-color: var(--hover-bg-color);\n",
              "    box-shadow: 0 1px 2px rgba(60, 64, 67, 0.3), 0 1px 3px 1px rgba(60, 64, 67, 0.15);\n",
              "    fill: var(--button-hover-fill-color);\n",
              "  }\n",
              "\n",
              "  .colab-df-quickchart-complete:disabled,\n",
              "  .colab-df-quickchart-complete:disabled:hover {\n",
              "    background-color: var(--disabled-bg-color);\n",
              "    fill: var(--disabled-fill-color);\n",
              "    box-shadow: none;\n",
              "  }\n",
              "\n",
              "  .colab-df-spinner {\n",
              "    border: 2px solid var(--fill-color);\n",
              "    border-color: transparent;\n",
              "    border-bottom-color: var(--fill-color);\n",
              "    animation:\n",
              "      spin 1s steps(1) infinite;\n",
              "  }\n",
              "\n",
              "  @keyframes spin {\n",
              "    0% {\n",
              "      border-color: transparent;\n",
              "      border-bottom-color: var(--fill-color);\n",
              "      border-left-color: var(--fill-color);\n",
              "    }\n",
              "    20% {\n",
              "      border-color: transparent;\n",
              "      border-left-color: var(--fill-color);\n",
              "      border-top-color: var(--fill-color);\n",
              "    }\n",
              "    30% {\n",
              "      border-color: transparent;\n",
              "      border-left-color: var(--fill-color);\n",
              "      border-top-color: var(--fill-color);\n",
              "      border-right-color: var(--fill-color);\n",
              "    }\n",
              "    40% {\n",
              "      border-color: transparent;\n",
              "      border-right-color: var(--fill-color);\n",
              "      border-top-color: var(--fill-color);\n",
              "    }\n",
              "    60% {\n",
              "      border-color: transparent;\n",
              "      border-right-color: var(--fill-color);\n",
              "    }\n",
              "    80% {\n",
              "      border-color: transparent;\n",
              "      border-right-color: var(--fill-color);\n",
              "      border-bottom-color: var(--fill-color);\n",
              "    }\n",
              "    90% {\n",
              "      border-color: transparent;\n",
              "      border-bottom-color: var(--fill-color);\n",
              "    }\n",
              "  }\n",
              "</style>\n",
              "\n",
              "  <script>\n",
              "    async function quickchart(key) {\n",
              "      const quickchartButtonEl =\n",
              "        document.querySelector('#' + key + ' button');\n",
              "      quickchartButtonEl.disabled = true;  // To prevent multiple clicks.\n",
              "      quickchartButtonEl.classList.add('colab-df-spinner');\n",
              "      try {\n",
              "        const charts = await google.colab.kernel.invokeFunction(\n",
              "            'suggestCharts', [key], {});\n",
              "      } catch (error) {\n",
              "        console.error('Error during call to suggestCharts:', error);\n",
              "      }\n",
              "      quickchartButtonEl.classList.remove('colab-df-spinner');\n",
              "      quickchartButtonEl.classList.add('colab-df-quickchart-complete');\n",
              "    }\n",
              "    (() => {\n",
              "      let quickchartButtonEl =\n",
              "        document.querySelector('#df-bc09b6cd-599e-4737-ad6f-e5de8b7bbbfa button');\n",
              "      quickchartButtonEl.style.display =\n",
              "        google.colab.kernel.accessAllowed ? 'block' : 'none';\n",
              "    })();\n",
              "  </script>\n",
              "</div>\n",
              "    </div>\n",
              "  </div>\n"
            ],
            "application/vnd.google.colaboratory.intrinsic+json": {
              "type": "dataframe",
              "summary": "{\n  \"name\": \"aux\",\n  \"rows\": 15,\n  \"fields\": [\n    {\n      \"column\": \"text\",\n      \"properties\": {\n        \"dtype\": \"string\",\n        \"num_unique_values\": 15,\n        \"samples\": [\n          \"entoupa sorek\",\n          \"bravo maysa\",\n          \"\\u0623\\u0646\\u0627 \\u062d\\u0627\\u0644\\u0629 \\u0631\\u0626\\u064a\\u0633 \\u0645\\u062c\\u0644\\u0633 \\u0646\\u0648\\u0627\\u0628 \\u0627\\u0644\\u0634\\u0639\\u0628 \\u064a\\u0644\\u0632\\u0645 \\u064a\\u062d\\u0644\\u0641 \\u0627\\u0644\\u0642\\u0633\\u0645 \\u0627\\u0644\\u062f\\u0633\\u062a\\u0648\\u0631\\u064a\\u0629 \\u0625\\u0645\\u0627 \\u0642\\u062f\\u0627\\u0645 \\u0645\\u062c\\u0644\\u0633 \\u0646\\u0648\\u0627\\u0628 \\u0627\\u0644\\u0634\\u0639\\u0628 \\u0648\\u0643\\u064a \\u0645\\u0627\\u064a\\u0646\\u062c\\u0645\\u0634 \\u0648\\u0642\\u062a\\u0647\\u0627 \\u064a\\u0644\\u0632\\u0645\\u0648 \\u064a\\u062d\\u0644\\u0641 \\u0642\\u062f\\u0627\\u0645 \\u0645\\u0643\\u062a\\u0628 \\u0627\\u0644\\u0645\\u062c\\u0644\\u0633\"\n        ],\n        \"semantic_type\": \"\",\n        \"description\": \"\"\n      }\n    },\n    {\n      \"column\": \"label\",\n      \"properties\": {\n        \"dtype\": \"number\",\n        \"std\": 0,\n        \"min\": 0,\n        \"max\": 1,\n        \"num_unique_values\": 2,\n        \"samples\": [\n          1,\n          0\n        ],\n        \"semantic_type\": \"\",\n        \"description\": \"\"\n      }\n    }\n  ]\n}"
            }
          },
          "metadata": {},
          "execution_count": 30
        }
      ],
      "source": [
        "aux.sample(15,random_state=4)"
      ]
    },
    {
      "cell_type": "code",
      "execution_count": 31,
      "id": "ZMWT06Hjz8p5",
      "metadata": {
        "colab": {
          "base_uri": "https://localhost:8080/"
        },
        "id": "ZMWT06Hjz8p5",
        "outputId": "671cf03d-407e-443f-aeea-2353f8ca4a5a"
      },
      "outputs": [
        {
          "output_type": "stream",
          "name": "stdout",
          "text": [
            "les mots les plus repétés pour les commentaire positifs [('bravo', 3655), ('ربي', 3651), ('برافو', 3405), ('على', 2577), ('سليم', 2452), ('الي', 2230), ('اله', 1752), ('انشاءاله', 1615), ('باش', 1536), ('معلم', 1524), ('انا', 1502), ('معاك', 1476), ('كان', 1443), ('تونس', 1388), ('برشا', 1316), ('maalem', 1045), ('واله', 1042), ('اما', 1033), ('فال', 919), ('men', 805), ('راجل', 777), ('ديما', 776), ('انتي', 770), ('عليك', 699), ('موش', 672), ('بربي', 654), ('rabi', 643), ('خير', 642), ('سلومة', 636), ('ilah', 628), ('merci', 609), ('جمعية', 607), ('حتى', 600), ('رياحي', 597), ('هذا', 586), ('ala', 579), ('لاس', 578), ('هاذي', 563), ('ولا', 557), ('شكون', 551)]\n",
            "les mots les plus repétés pour les commentaires négatifs [('على', 1959), ('الي', 1367), ('كان', 1328), ('maset', 1236), ('تفوه', 926), ('men', 833), ('باش', 822), ('اله', 821), ('مالا', 789), ('ماسط', 770), ('نيك', 757), ('فيه', 735), ('ala', 730), ('تونس', 709), ('واله', 686), ('tfouh', 666), ('ربي', 644), ('موش', 623), ('هذا', 622), ('برا', 609), ('انتي', 581), ('عليك', 573), ('زبي', 549), ('انا', 540), ('سليم', 535), ('حتى', 533), ('فال', 523), ('masta', 508), ('ماصت', 507), ('امك', 502), ('برشا', 499), ('قحبة', 497), ('طحان', 485), ('ولا', 475), ('راك', 470), ('اما', 461), ('عصبة', 459), ('ilah', 455), ('واحد', 451), ('tahan', 442)]\n"
          ]
        }
      ],
      "source": [
        "import collections\n",
        "from collections import Counter\n",
        "\n",
        "# afficher les mots les plus repétés pour les sentiments positifs\n",
        "print(\"les mots les plus repétés pour les commentaire positifs\",Counter(\" \".join(aux[\"text\"][aux[\"label\"]==0]).split()).most_common(40))\n",
        "\n",
        "# afficher les mots les plus repétés pour les sentiments négatifs\n",
        "print(\"les mots les plus repétés pour les commentaires négatifs\",Counter(\" \".join(aux[\"text\"][aux[\"label\"]==1]).split()).most_common(40))\n"
      ]
    },
    {
      "cell_type": "code",
      "execution_count": 32,
      "id": "v22gTxRhz8p6",
      "metadata": {
        "colab": {
          "base_uri": "https://localhost:8080/"
        },
        "id": "v22gTxRhz8p6",
        "outputId": "b8a6ad59-231d-4fee-c722-1c23a4bf8c59"
      },
      "outputs": [
        {
          "output_type": "stream",
          "name": "stdout",
          "text": [
            "['bravo', 'ربي', 'برافو', 'على', 'سليم', 'الي', 'اله', 'انشاءاله', 'باش', 'معلم', 'انا', 'معاك', 'كان', 'تونس', 'برشا', 'maalem', 'واله', 'اما', 'فال', 'men', 'راجل', 'ديما', 'انتي', 'عليك', 'موش', 'بربي', 'rabi', 'خير', 'سلومة', 'ilah', 'merci', 'جمعية', 'حتى', 'رياحي', 'هذا', 'ala', 'لاس', 'هاذي', 'ولا', 'شكون', 'واء', 'الكل', 'واحد', 'حاجة', 'كلوب', 'khir', 'ناس', 'معا', 'هوا', 'فما', 'ahla', 'فيه', 'بالاهي', 'توا', 'كيما', 'مبروك', 'سامي', 'متع', 'ahsen', 'احسن', 'نحب', 'عليه', 'علاء', 'وال', 'تونسي', 'كيف', 'فيها', 'saha', 'mahlek', 'شعب', 'بال', 'بين', 'mabrouk', 'محلاك', 'جعفور', 'صحة', 'مرسي', 'إلي', 'عام', 'ياسر']\n",
            "['على', 'الي', 'كان', 'maset', 'تفوه', 'men', 'باش', 'اله', 'مالا', 'ماسط', 'نيك', 'فيه', 'ala', 'تونس', 'واله', 'tfouh', 'ربي', 'موش', 'هذا', 'برا', 'انتي', 'عليك', 'زبي', 'انا', 'سليم', 'حتى', 'فال', 'masta', 'ماصت', 'امك', 'برشا', 'قحبة', 'طحان', 'ولا', 'راك', 'اما', 'عصبة', 'ilah', 'واحد', 'tahan', 'eli', 'متع', 'راجل', 'بربي', 'ملا', 'masit', 'kahba', 'ياسر', 'تافه', 'توا', 'خير', 'ken', 'zebi', 'laset', 'الكل', 'فيها', 'حاجة', 'كيف', 'nik', 'اخرى', 'كلب', 'بالاهي', 'aasba', 'ميبون', 'مال', 'khir', 'عليه', 'عليكم', 'علي', 'سامي', 'هاذي', 'ناس', 'مسطرة', 'طحانة', 'mila', 'شعب', 'هوا', 'رياحي', 'hedha', 'ila']\n"
          ]
        }
      ],
      "source": [
        "from collections import Counter\n",
        "positifs=[]\n",
        "négatifs=[]\n",
        "for i in range(80):\n",
        "    positifs.append((Counter(\" \".join(aux[\"text\"][aux[\"label\"]==0]).split()).most_common(80))[i][0])\n",
        "print(positifs)\n",
        "for i in range(80):\n",
        "    négatifs.append((Counter(\" \".join(aux[\"text\"][aux[\"label\"]==1]).split()).most_common(80))[i][0])\n",
        "print(négatifs)\n",
        "\n"
      ]
    },
    {
      "cell_type": "code",
      "execution_count": 33,
      "id": "fTGlR1XTHSzx",
      "metadata": {
        "id": "fTGlR1XTHSzx"
      },
      "outputs": [],
      "source": [
        "from langdetect import detect\n",
        "def detect_language(text):\n",
        "  try:\n",
        "    return detect(text)\n",
        "  except:\n",
        "    return None"
      ]
    },
    {
      "cell_type": "markdown",
      "source": [
        "# Model"
      ],
      "metadata": {
        "id": "Gg_QrqR5jM2g"
      },
      "id": "Gg_QrqR5jM2g"
    },
    {
      "cell_type": "code",
      "execution_count": 34,
      "id": "5Ygj7YNMz8p9",
      "metadata": {
        "id": "5Ygj7YNMz8p9",
        "colab": {
          "base_uri": "https://localhost:8080/"
        },
        "outputId": "6aa54ea8-953d-44c0-c526-a62df7ed8ba9"
      },
      "outputs": [
        {
          "output_type": "stream",
          "name": "stdout",
          "text": [
            "There are 1 GPU(s) available.\n",
            "Device name: Tesla T4\n"
          ]
        }
      ],
      "source": [
        "import torch\n",
        "if torch.cuda.is_available():\n",
        "    device = torch.device(\"cuda\")\n",
        "    print(f'There are {torch.cuda.device_count()} GPU(s) available.')\n",
        "    print('Device name:', torch.cuda.get_device_name(0))\n",
        "\n",
        "else:\n",
        "    print('No GPU available, using the CPU instead.')\n",
        "    device = torch.device(\"cpu\")"
      ]
    },
    {
      "cell_type": "code",
      "execution_count": 35,
      "id": "nYap_AXvz8p-",
      "metadata": {
        "colab": {
          "base_uri": "https://localhost:8080/"
        },
        "id": "nYap_AXvz8p-",
        "outputId": "3dd1bfac-a8e8-4b00-9b48-262f6ea74f51"
      },
      "outputs": [
        {
          "output_type": "execute_result",
          "data": {
            "text/plain": [
              "array([0, 1, 1, ..., 1, 0, 0])"
            ]
          },
          "metadata": {},
          "execution_count": 35
        }
      ],
      "source": [
        "labels = aux.label.values\n",
        "sentences=aux.text.values\n",
        "labels"
      ]
    },
    {
      "cell_type": "code",
      "execution_count": 36,
      "id": "Nf6z3g-3z8p-",
      "metadata": {
        "colab": {
          "base_uri": "https://localhost:8080/"
        },
        "id": "Nf6z3g-3z8p-",
        "outputId": "c84f49c0-c85f-45c8-919d-c050f6d4f7e4"
      },
      "outputs": [
        {
          "output_type": "execute_result",
          "data": {
            "text/plain": [
              "array([-1,  0,  0, ...,  0, -1, -1])"
            ]
          },
          "metadata": {},
          "execution_count": 36
        }
      ],
      "source": [
        "labels-=1\n",
        "labels"
      ]
    },
    {
      "cell_type": "code",
      "execution_count": 37,
      "id": "9jhkKTqSJcsR",
      "metadata": {
        "id": "9jhkKTqSJcsR",
        "colab": {
          "base_uri": "https://localhost:8080/"
        },
        "outputId": "3bf9b145-af3a-474a-b82a-9a19d7c853f0"
      },
      "outputs": [
        {
          "output_type": "execute_result",
          "data": {
            "text/plain": [
              "60034     0\n",
              "40350     1\n",
              "89192     0\n",
              "4467      0\n",
              "119449    0\n",
              "         ..\n",
              "56090     1\n",
              "65060     0\n",
              "112280    0\n",
              "34060     0\n",
              "26386     1\n",
              "Name: label, Length: 23916, dtype: int64"
            ]
          },
          "metadata": {},
          "execution_count": 37
        }
      ],
      "source": [
        "y_test"
      ]
    },
    {
      "cell_type": "code",
      "execution_count": 38,
      "id": "a1gjl2Yp7NAL",
      "metadata": {
        "id": "a1gjl2Yp7NAL"
      },
      "outputs": [],
      "source": [
        "import tensorflow as tf\n",
        "from sklearn.feature_extraction.text import CountVectorizer\n",
        "from keras.preprocessing.text import Tokenizer\n",
        "from keras.preprocessing.sequence import pad_sequences\n",
        "from keras.models import Sequential\n",
        "from tensorflow.keras.optimizers import Adam, RMSprop\n",
        "from keras.utils import to_categorical\n",
        "from sklearn.utils import resample\n",
        "from sklearn.utils import shuffle\n",
        "from keras.layers import Dense, Flatten, LSTM, Dropout, Activation, Embedding, Bidirectional,SpatialDropout1D\n",
        "from keras import regularizers"
      ]
    },
    {
      "cell_type": "code",
      "execution_count": 39,
      "id": "P5ghsnrh6zkp",
      "metadata": {
        "id": "P5ghsnrh6zkp"
      },
      "outputs": [],
      "source": [
        "embedding_dim = 128\n",
        "max_length = 1187\n",
        "oov_tok = '<OOV>' #  Out of Vocabulary"
      ]
    },
    {
      "cell_type": "code",
      "execution_count": 40,
      "id": "QHiXfgPGZ9CM",
      "metadata": {
        "id": "QHiXfgPGZ9CM"
      },
      "outputs": [],
      "source": [
        "tokenizer = Tokenizer(num_words = None, oov_token=oov_tok)\n",
        "tokenizer.fit_on_texts(aux['text'])\n",
        "word_index = tokenizer.word_index"
      ]
    },
    {
      "cell_type": "code",
      "source": [
        "#on X_test\n",
        "tokenizer.fit_on_texts(aux_test['text'])"
      ],
      "metadata": {
        "id": "BTJMT1vWe332"
      },
      "id": "BTJMT1vWe332",
      "execution_count": 41,
      "outputs": []
    },
    {
      "cell_type": "code",
      "execution_count": 42,
      "id": "u28_y9H1FVMK",
      "metadata": {
        "colab": {
          "base_uri": "https://localhost:8080/"
        },
        "id": "u28_y9H1FVMK",
        "outputId": "064053a0-3021-4bee-8a4a-f6667df029fe"
      },
      "outputs": [
        {
          "output_type": "execute_result",
          "data": {
            "text/plain": [
              "150824"
            ]
          },
          "metadata": {},
          "execution_count": 42
        }
      ],
      "source": [
        "\n",
        "\n",
        "vocab_size = len(word_index) + 1  # Adding 1 for padding token\n",
        "vocab_size"
      ]
    },
    {
      "cell_type": "code",
      "execution_count": null,
      "id": "mLHxoyNPL1nm",
      "metadata": {
        "id": "mLHxoyNPL1nm",
        "collapsed": true
      },
      "outputs": [],
      "source": [
        "word_index"
      ]
    },
    {
      "cell_type": "code",
      "execution_count": null,
      "id": "ZzdnUWMS6zh6",
      "metadata": {
        "id": "ZzdnUWMS6zh6"
      },
      "outputs": [],
      "source": [
        "train_sequences = tokenizer.texts_to_sequences(aux['text'])\n",
        "train_sequences"
      ]
    },
    {
      "cell_type": "code",
      "source": [
        "X_test_sequences = tokenizer.texts_to_sequences(aux_test['text'])"
      ],
      "metadata": {
        "id": "jkSLOY_Ajj1w"
      },
      "id": "jkSLOY_Ajj1w",
      "execution_count": 44,
      "outputs": []
    },
    {
      "cell_type": "code",
      "execution_count": 45,
      "id": "P2f15s2ebuBH",
      "metadata": {
        "colab": {
          "base_uri": "https://localhost:8080/"
        },
        "id": "P2f15s2ebuBH",
        "outputId": "15eb5b66-1381-4e23-bed9-a40c3aef1ba5"
      },
      "outputs": [
        {
          "output_type": "execute_result",
          "data": {
            "text/plain": [
              "array([[   53,  2830,    43, ...,     0,     0,     0],\n",
              "       [ 1049, 10493,  9054, ...,     0,     0,     0],\n",
              "       [ 3303,   112, 74891, ...,     0,     0,     0],\n",
              "       ...,\n",
              "       [   89,   727,     0, ...,     0,     0,     0],\n",
              "       [    6,    78,     0, ...,     0,     0,     0],\n",
              "       [ 3736,     0,     0, ...,     0,     0,     0]], dtype=int32)"
            ]
          },
          "metadata": {},
          "execution_count": 45
        }
      ],
      "source": [
        "max_length = max(len(seq) for seq in train_sequences)\n",
        "train_data = pad_sequences(train_sequences, maxlen=max_length,padding='post')\n",
        "train_data"
      ]
    },
    {
      "cell_type": "code",
      "source": [
        "X_test_padded = pad_sequences(X_test_sequences, maxlen=max_length, padding='post')"
      ],
      "metadata": {
        "id": "ud0BqZlXfIBL"
      },
      "id": "ud0BqZlXfIBL",
      "execution_count": 46,
      "outputs": []
    },
    {
      "cell_type": "code",
      "source": [
        "y_test_encoded = to_categorical(y_test)"
      ],
      "metadata": {
        "id": "QovzK1phfR5T"
      },
      "id": "QovzK1phfR5T",
      "execution_count": 47,
      "outputs": []
    },
    {
      "cell_type": "code",
      "execution_count": 48,
      "id": "0ZVfn1HHCdB6",
      "metadata": {
        "colab": {
          "base_uri": "https://localhost:8080/"
        },
        "id": "0ZVfn1HHCdB6",
        "outputId": "11157126-18fe-40d2-95c3-9520b2ea6b42"
      },
      "outputs": [
        {
          "output_type": "execute_result",
          "data": {
            "text/plain": [
              "1187"
            ]
          },
          "metadata": {},
          "execution_count": 48
        }
      ],
      "source": [
        "features= train_data.shape[1]\n",
        "features"
      ]
    },
    {
      "cell_type": "code",
      "execution_count": 49,
      "id": "-XWzLI-Y-BWV",
      "metadata": {
        "colab": {
          "base_uri": "https://localhost:8080/"
        },
        "id": "-XWzLI-Y-BWV",
        "outputId": "df7b1c56-c6d0-4c05-cc23-a662dfb03de0"
      },
      "outputs": [
        {
          "output_type": "execute_result",
          "data": {
            "text/plain": [
              "1187"
            ]
          },
          "metadata": {},
          "execution_count": 49
        }
      ],
      "source": [
        "max_length"
      ]
    },
    {
      "cell_type": "code",
      "execution_count": 50,
      "id": "u8igwzUnMBFq",
      "metadata": {
        "colab": {
          "base_uri": "https://localhost:8080/"
        },
        "id": "u8igwzUnMBFq",
        "outputId": "1ecf7132-d573-4358-fbd0-45a479f10be6"
      },
      "outputs": [
        {
          "output_type": "execute_result",
          "data": {
            "text/plain": [
              "array([74892, 74893, 20703, ...,     0,     0,     0], dtype=int32)"
            ]
          },
          "metadata": {},
          "execution_count": 50
        }
      ],
      "source": [
        "train_data[3]"
      ]
    },
    {
      "cell_type": "code",
      "execution_count": 51,
      "id": "idTRSFKObcuM",
      "metadata": {
        "id": "idTRSFKObcuM"
      },
      "outputs": [],
      "source": [
        "training_label = pd.get_dummies(aux['label']).values\n",
        "#\"jebna label\""
      ]
    },
    {
      "cell_type": "code",
      "source": [
        "test_label = pd.get_dummies(aux_test['label']).values"
      ],
      "metadata": {
        "id": "NTVf4ipKjy5Z"
      },
      "id": "NTVf4ipKjy5Z",
      "execution_count": 52,
      "outputs": []
    },
    {
      "cell_type": "code",
      "execution_count": 53,
      "id": "AeWgmkHhc4MY",
      "metadata": {
        "colab": {
          "base_uri": "https://localhost:8080/"
        },
        "id": "AeWgmkHhc4MY",
        "outputId": "54c73176-0edd-47a8-d96a-1b056fdf77d3"
      },
      "outputs": [
        {
          "output_type": "execute_result",
          "data": {
            "text/plain": [
              "array([False,  True])"
            ]
          },
          "metadata": {},
          "execution_count": 53
        }
      ],
      "source": [
        "training_label[3]"
      ]
    },
    {
      "cell_type": "code",
      "execution_count": 54,
      "id": "uFyHC4YKc5bQ",
      "metadata": {
        "colab": {
          "base_uri": "https://localhost:8080/"
        },
        "id": "uFyHC4YKc5bQ",
        "outputId": "45d55069-3938-4826-a50c-8fa586898bec"
      },
      "outputs": [
        {
          "output_type": "stream",
          "name": "stdout",
          "text": [
            "(95664, 1) (95664,)\n",
            "(23916, 1) (23916,)\n"
          ]
        }
      ],
      "source": [
        "print(X_train.shape,y_train.shape)\n",
        "print(X_test.shape,y_test.shape)"
      ]
    },
    {
      "cell_type": "code",
      "execution_count": 55,
      "id": "FJI6iaaCKaP7",
      "metadata": {
        "id": "FJI6iaaCKaP7"
      },
      "outputs": [],
      "source": [
        "from keras import backend as K\n",
        "\n",
        "def recall_(y_true, y_pred):\n",
        "    true_positives = K.sum(K.round(K.clip(y_true * y_pred, 0, 1)))\n",
        "    possible_positives = K.sum(K.round(K.clip(y_true, 0, 1)))\n",
        "    recall = true_positives / (possible_positives + K.epsilon())\n",
        "    return recall\n",
        "\n",
        "def precision_(y_true, y_pred):\n",
        "    true_positives = K.sum(K.round(K.clip(y_true * y_pred, 0, 1)))\n",
        "    predicted_positives = K.sum(K.round(K.clip(y_pred, 0, 1)))\n",
        "    precision = true_positives / (predicted_positives + K.epsilon())\n",
        "    return precision\n",
        "\n",
        "def f1_score(y_true, y_pred):\n",
        "    precision = precision_(y_true, y_pred)\n",
        "    recall = recall_(y_true, y_pred)\n",
        "    return 2*((precision*recall)/(precision+recall+K.epsilon()))"
      ]
    },
    {
      "cell_type": "code",
      "execution_count": 56,
      "id": "tnEwW4r08hyl",
      "metadata": {
        "colab": {
          "base_uri": "https://localhost:8080/"
        },
        "id": "tnEwW4r08hyl",
        "outputId": "43541fb1-2b97-4aba-cf6d-86eeb1aa35c4"
      },
      "outputs": [
        {
          "output_type": "execute_result",
          "data": {
            "text/plain": [
              "1187"
            ]
          },
          "metadata": {},
          "execution_count": 56
        }
      ],
      "source": [
        "max_length"
      ]
    },
    {
      "cell_type": "code",
      "execution_count": 57,
      "id": "-kzp1WJwhR-J",
      "metadata": {
        "colab": {
          "base_uri": "https://localhost:8080/"
        },
        "id": "-kzp1WJwhR-J",
        "outputId": "ab094d08-a49d-4c39-a13e-b9f902051378"
      },
      "outputs": [
        {
          "output_type": "stream",
          "name": "stdout",
          "text": [
            "Model: \"sequential\"\n",
            "_________________________________________________________________\n",
            " Layer (type)                Output Shape              Param #   \n",
            "=================================================================\n",
            " embedding (Embedding)       (None, 1187, 128)         19305472  \n",
            "                                                                 \n",
            " spatial_dropout1d (Spatial  (None, 1187, 128)         0         \n",
            " Dropout1D)                                                      \n",
            "                                                                 \n",
            " bidirectional (Bidirection  (None, 256)               263168    \n",
            " al)                                                             \n",
            "                                                                 \n",
            " dropout (Dropout)           (None, 256)               0         \n",
            "                                                                 \n",
            " dense (Dense)               (None, 2)                 514       \n",
            "                                                                 \n",
            "=================================================================\n",
            "Total params: 19569154 (74.65 MB)\n",
            "Trainable params: 19569154 (74.65 MB)\n",
            "Non-trainable params: 0 (0.00 Byte)\n",
            "_________________________________________________________________\n"
          ]
        }
      ],
      "source": [
        "model = Sequential()\n",
        "model.add(Embedding(vocab_size,embedding_dim ,input_length=max_length))\n",
        "model.add(SpatialDropout1D(0.2))\n",
        "model.add(Bidirectional(LSTM(embedding_dim,kernel_regularizer=regularizers.l2(0.01))))\n",
        "model.add(Dropout(0.5))\n",
        "model.add(Dense(2,activation='softmax' ))\n",
        "model.summary()"
      ]
    },
    {
      "cell_type": "code",
      "execution_count": 58,
      "id": "tCKYJE7Fq8f2",
      "metadata": {
        "id": "tCKYJE7Fq8f2"
      },
      "outputs": [],
      "source": [
        "optimizer = Adam(learning_rate=0.001)\n",
        "model.compile(loss='binary_crossentropy', optimizer=optimizer, metrics=['Accuracy',recall_,precision_,f1_score])"
      ]
    },
    {
      "cell_type": "markdown",
      "source": [],
      "metadata": {
        "id": "uY1vDbT7gIBj"
      },
      "id": "uY1vDbT7gIBj"
    },
    {
      "cell_type": "code",
      "execution_count": 59,
      "id": "dZRV0YkKHXQy",
      "metadata": {
        "id": "dZRV0YkKHXQy"
      },
      "outputs": [],
      "source": [
        "from keras.callbacks import EarlyStopping\n",
        "early_stopping = EarlyStopping(monitor='val_loss', patience=2)"
      ]
    },
    {
      "cell_type": "code",
      "execution_count": 60,
      "id": "I4-Xc8eER5kf",
      "metadata": {
        "colab": {
          "base_uri": "https://localhost:8080/"
        },
        "id": "I4-Xc8eER5kf",
        "outputId": "fc019c1a-bec2-470a-cadf-3f441f1e9551"
      },
      "outputs": [
        {
          "output_type": "execute_result",
          "data": {
            "text/plain": [
              "text     object\n",
              "label     int64\n",
              "dtype: object"
            ]
          },
          "metadata": {},
          "execution_count": 60
        }
      ],
      "source": [
        "aux.dtypes"
      ]
    },
    {
      "cell_type": "code",
      "execution_count": 61,
      "id": "ebJ8c1KPVhDQ",
      "metadata": {
        "colab": {
          "base_uri": "https://localhost:8080/",
          "height": 206
        },
        "id": "ebJ8c1KPVhDQ",
        "outputId": "6dc711af-4925-4813-fd78-d65a75520e82"
      },
      "outputs": [
        {
          "output_type": "execute_result",
          "data": {
            "text/plain": [
              "                                                text  label  kfold\n",
              "0  lghnaya ta3betni galbi youja3ni nasma3ha meme ...      0      4\n",
              "1                                     raw7 nike b3id      1      1\n",
              "2                 mast blid nans7ek trena sine7a 5ir      1      1\n",
              "3                                                واو      0      3\n",
              "4  منحط لا تربيه لا ثقافه تو من قلة المسرحيين جاي...      1      0"
            ],
            "text/html": [
              "\n",
              "  <div id=\"df-a94a2e6a-a58f-4128-a7ec-96dc081377aa\" class=\"colab-df-container\">\n",
              "    <div>\n",
              "<style scoped>\n",
              "    .dataframe tbody tr th:only-of-type {\n",
              "        vertical-align: middle;\n",
              "    }\n",
              "\n",
              "    .dataframe tbody tr th {\n",
              "        vertical-align: top;\n",
              "    }\n",
              "\n",
              "    .dataframe thead th {\n",
              "        text-align: right;\n",
              "    }\n",
              "</style>\n",
              "<table border=\"1\" class=\"dataframe\">\n",
              "  <thead>\n",
              "    <tr style=\"text-align: right;\">\n",
              "      <th></th>\n",
              "      <th>text</th>\n",
              "      <th>label</th>\n",
              "      <th>kfold</th>\n",
              "    </tr>\n",
              "  </thead>\n",
              "  <tbody>\n",
              "    <tr>\n",
              "      <th>0</th>\n",
              "      <td>lghnaya ta3betni galbi youja3ni nasma3ha meme ...</td>\n",
              "      <td>0</td>\n",
              "      <td>4</td>\n",
              "    </tr>\n",
              "    <tr>\n",
              "      <th>1</th>\n",
              "      <td>raw7 nike b3id</td>\n",
              "      <td>1</td>\n",
              "      <td>1</td>\n",
              "    </tr>\n",
              "    <tr>\n",
              "      <th>2</th>\n",
              "      <td>mast blid nans7ek trena sine7a 5ir</td>\n",
              "      <td>1</td>\n",
              "      <td>1</td>\n",
              "    </tr>\n",
              "    <tr>\n",
              "      <th>3</th>\n",
              "      <td>واو</td>\n",
              "      <td>0</td>\n",
              "      <td>3</td>\n",
              "    </tr>\n",
              "    <tr>\n",
              "      <th>4</th>\n",
              "      <td>منحط لا تربيه لا ثقافه تو من قلة المسرحيين جاي...</td>\n",
              "      <td>1</td>\n",
              "      <td>0</td>\n",
              "    </tr>\n",
              "  </tbody>\n",
              "</table>\n",
              "</div>\n",
              "    <div class=\"colab-df-buttons\">\n",
              "\n",
              "  <div class=\"colab-df-container\">\n",
              "    <button class=\"colab-df-convert\" onclick=\"convertToInteractive('df-a94a2e6a-a58f-4128-a7ec-96dc081377aa')\"\n",
              "            title=\"Convert this dataframe to an interactive table.\"\n",
              "            style=\"display:none;\">\n",
              "\n",
              "  <svg xmlns=\"http://www.w3.org/2000/svg\" height=\"24px\" viewBox=\"0 -960 960 960\">\n",
              "    <path d=\"M120-120v-720h720v720H120Zm60-500h600v-160H180v160Zm220 220h160v-160H400v160Zm0 220h160v-160H400v160ZM180-400h160v-160H180v160Zm440 0h160v-160H620v160ZM180-180h160v-160H180v160Zm440 0h160v-160H620v160Z\"/>\n",
              "  </svg>\n",
              "    </button>\n",
              "\n",
              "  <style>\n",
              "    .colab-df-container {\n",
              "      display:flex;\n",
              "      gap: 12px;\n",
              "    }\n",
              "\n",
              "    .colab-df-convert {\n",
              "      background-color: #E8F0FE;\n",
              "      border: none;\n",
              "      border-radius: 50%;\n",
              "      cursor: pointer;\n",
              "      display: none;\n",
              "      fill: #1967D2;\n",
              "      height: 32px;\n",
              "      padding: 0 0 0 0;\n",
              "      width: 32px;\n",
              "    }\n",
              "\n",
              "    .colab-df-convert:hover {\n",
              "      background-color: #E2EBFA;\n",
              "      box-shadow: 0px 1px 2px rgba(60, 64, 67, 0.3), 0px 1px 3px 1px rgba(60, 64, 67, 0.15);\n",
              "      fill: #174EA6;\n",
              "    }\n",
              "\n",
              "    .colab-df-buttons div {\n",
              "      margin-bottom: 4px;\n",
              "    }\n",
              "\n",
              "    [theme=dark] .colab-df-convert {\n",
              "      background-color: #3B4455;\n",
              "      fill: #D2E3FC;\n",
              "    }\n",
              "\n",
              "    [theme=dark] .colab-df-convert:hover {\n",
              "      background-color: #434B5C;\n",
              "      box-shadow: 0px 1px 3px 1px rgba(0, 0, 0, 0.15);\n",
              "      filter: drop-shadow(0px 1px 2px rgba(0, 0, 0, 0.3));\n",
              "      fill: #FFFFFF;\n",
              "    }\n",
              "  </style>\n",
              "\n",
              "    <script>\n",
              "      const buttonEl =\n",
              "        document.querySelector('#df-a94a2e6a-a58f-4128-a7ec-96dc081377aa button.colab-df-convert');\n",
              "      buttonEl.style.display =\n",
              "        google.colab.kernel.accessAllowed ? 'block' : 'none';\n",
              "\n",
              "      async function convertToInteractive(key) {\n",
              "        const element = document.querySelector('#df-a94a2e6a-a58f-4128-a7ec-96dc081377aa');\n",
              "        const dataTable =\n",
              "          await google.colab.kernel.invokeFunction('convertToInteractive',\n",
              "                                                    [key], {});\n",
              "        if (!dataTable) return;\n",
              "\n",
              "        const docLinkHtml = 'Like what you see? Visit the ' +\n",
              "          '<a target=\"_blank\" href=https://colab.research.google.com/notebooks/data_table.ipynb>data table notebook</a>'\n",
              "          + ' to learn more about interactive tables.';\n",
              "        element.innerHTML = '';\n",
              "        dataTable['output_type'] = 'display_data';\n",
              "        await google.colab.output.renderOutput(dataTable, element);\n",
              "        const docLink = document.createElement('div');\n",
              "        docLink.innerHTML = docLinkHtml;\n",
              "        element.appendChild(docLink);\n",
              "      }\n",
              "    </script>\n",
              "  </div>\n",
              "\n",
              "\n",
              "<div id=\"df-5943b484-6e2f-4f22-a544-446cdedfff18\">\n",
              "  <button class=\"colab-df-quickchart\" onclick=\"quickchart('df-5943b484-6e2f-4f22-a544-446cdedfff18')\"\n",
              "            title=\"Suggest charts\"\n",
              "            style=\"display:none;\">\n",
              "\n",
              "<svg xmlns=\"http://www.w3.org/2000/svg\" height=\"24px\"viewBox=\"0 0 24 24\"\n",
              "     width=\"24px\">\n",
              "    <g>\n",
              "        <path d=\"M19 3H5c-1.1 0-2 .9-2 2v14c0 1.1.9 2 2 2h14c1.1 0 2-.9 2-2V5c0-1.1-.9-2-2-2zM9 17H7v-7h2v7zm4 0h-2V7h2v10zm4 0h-2v-4h2v4z\"/>\n",
              "    </g>\n",
              "</svg>\n",
              "  </button>\n",
              "\n",
              "<style>\n",
              "  .colab-df-quickchart {\n",
              "      --bg-color: #E8F0FE;\n",
              "      --fill-color: #1967D2;\n",
              "      --hover-bg-color: #E2EBFA;\n",
              "      --hover-fill-color: #174EA6;\n",
              "      --disabled-fill-color: #AAA;\n",
              "      --disabled-bg-color: #DDD;\n",
              "  }\n",
              "\n",
              "  [theme=dark] .colab-df-quickchart {\n",
              "      --bg-color: #3B4455;\n",
              "      --fill-color: #D2E3FC;\n",
              "      --hover-bg-color: #434B5C;\n",
              "      --hover-fill-color: #FFFFFF;\n",
              "      --disabled-bg-color: #3B4455;\n",
              "      --disabled-fill-color: #666;\n",
              "  }\n",
              "\n",
              "  .colab-df-quickchart {\n",
              "    background-color: var(--bg-color);\n",
              "    border: none;\n",
              "    border-radius: 50%;\n",
              "    cursor: pointer;\n",
              "    display: none;\n",
              "    fill: var(--fill-color);\n",
              "    height: 32px;\n",
              "    padding: 0;\n",
              "    width: 32px;\n",
              "  }\n",
              "\n",
              "  .colab-df-quickchart:hover {\n",
              "    background-color: var(--hover-bg-color);\n",
              "    box-shadow: 0 1px 2px rgba(60, 64, 67, 0.3), 0 1px 3px 1px rgba(60, 64, 67, 0.15);\n",
              "    fill: var(--button-hover-fill-color);\n",
              "  }\n",
              "\n",
              "  .colab-df-quickchart-complete:disabled,\n",
              "  .colab-df-quickchart-complete:disabled:hover {\n",
              "    background-color: var(--disabled-bg-color);\n",
              "    fill: var(--disabled-fill-color);\n",
              "    box-shadow: none;\n",
              "  }\n",
              "\n",
              "  .colab-df-spinner {\n",
              "    border: 2px solid var(--fill-color);\n",
              "    border-color: transparent;\n",
              "    border-bottom-color: var(--fill-color);\n",
              "    animation:\n",
              "      spin 1s steps(1) infinite;\n",
              "  }\n",
              "\n",
              "  @keyframes spin {\n",
              "    0% {\n",
              "      border-color: transparent;\n",
              "      border-bottom-color: var(--fill-color);\n",
              "      border-left-color: var(--fill-color);\n",
              "    }\n",
              "    20% {\n",
              "      border-color: transparent;\n",
              "      border-left-color: var(--fill-color);\n",
              "      border-top-color: var(--fill-color);\n",
              "    }\n",
              "    30% {\n",
              "      border-color: transparent;\n",
              "      border-left-color: var(--fill-color);\n",
              "      border-top-color: var(--fill-color);\n",
              "      border-right-color: var(--fill-color);\n",
              "    }\n",
              "    40% {\n",
              "      border-color: transparent;\n",
              "      border-right-color: var(--fill-color);\n",
              "      border-top-color: var(--fill-color);\n",
              "    }\n",
              "    60% {\n",
              "      border-color: transparent;\n",
              "      border-right-color: var(--fill-color);\n",
              "    }\n",
              "    80% {\n",
              "      border-color: transparent;\n",
              "      border-right-color: var(--fill-color);\n",
              "      border-bottom-color: var(--fill-color);\n",
              "    }\n",
              "    90% {\n",
              "      border-color: transparent;\n",
              "      border-bottom-color: var(--fill-color);\n",
              "    }\n",
              "  }\n",
              "</style>\n",
              "\n",
              "  <script>\n",
              "    async function quickchart(key) {\n",
              "      const quickchartButtonEl =\n",
              "        document.querySelector('#' + key + ' button');\n",
              "      quickchartButtonEl.disabled = true;  // To prevent multiple clicks.\n",
              "      quickchartButtonEl.classList.add('colab-df-spinner');\n",
              "      try {\n",
              "        const charts = await google.colab.kernel.invokeFunction(\n",
              "            'suggestCharts', [key], {});\n",
              "      } catch (error) {\n",
              "        console.error('Error during call to suggestCharts:', error);\n",
              "      }\n",
              "      quickchartButtonEl.classList.remove('colab-df-spinner');\n",
              "      quickchartButtonEl.classList.add('colab-df-quickchart-complete');\n",
              "    }\n",
              "    (() => {\n",
              "      let quickchartButtonEl =\n",
              "        document.querySelector('#df-5943b484-6e2f-4f22-a544-446cdedfff18 button');\n",
              "      quickchartButtonEl.style.display =\n",
              "        google.colab.kernel.accessAllowed ? 'block' : 'none';\n",
              "    })();\n",
              "  </script>\n",
              "</div>\n",
              "    </div>\n",
              "  </div>\n"
            ],
            "application/vnd.google.colaboratory.intrinsic+json": {
              "type": "dataframe",
              "variable_name": "Validation_data",
              "summary": "{\n  \"name\": \"Validation_data\",\n  \"rows\": 10042,\n  \"fields\": [\n    {\n      \"column\": \"text\",\n      \"properties\": {\n        \"dtype\": \"string\",\n        \"num_unique_values\": 9065,\n        \"samples\": [\n          \"\\u0627\\u0646\\u062a \\u0645\\u0631\\u064a\\u0636 \\u0646\\u0641\\u0633\\u064a \\u0634\\u0648\\u0641 \\u0637\\u0628\\u064a\\u0628 \\u0628\\u0647\\u0627\\u064a\\u0645 \\u064a\\u0642\\u062f\\u0631\\u0634 \\u064a\\u062f\\u0627\\u0648\\u064a\\u0643 \\u0648\\u0645\\u0627 \\u0636\\u0647\\u0631\\u0644\\u064a \\u0639\\u0646\\u062f\\u0643 \\u062f\\u0648\\u0627\\u0621 \\u0645\\u0646 \\u062a\\u062f\\u0648\\u064a\\u0631 \\u0635\\u0648\\u0627\\u0628\\u0639\\u0643 \\u064a\\u0627 \\u0645\\u0639\\u0627\\u0642 \\u062a\\u064a \\u0645\\u0646 \\u0641\\u0627\\u0637\\u0645\\u0629 \\u0628\\u0648\\u0633\\u0627\\u062d\\u0629 \\u064a\\u0648\\u0641\\u0627 \\u062a\\u062d\\u0643\\u064a \\u0639\\u0627\\u0644\\u0634\\u0631\\u0641 \\u062a\\u0641\\u0648\\u0648\\u0648\\u0647\",\n          \"fen fan fen mafhmtech tahan aamelk like weldi\",\n          \"\\u0633\\u064a\\u062f\\u064a \\u0627\\u0644\\u0631\\u0626\\u064a\\u0633 \\u0623\\u0646\\u0627 \\u0646\\u062d\\u062a\\u0631\\u0645 \\u0628\\u0631\\u0634\\u0629 \\u0627\\u062c\\u062a\\u0647\\u0627\\u062f\\u0643 \\u0641\\u064a \\u0623\\u062f\\u0627\\u0621 \\u0648\\u0627\\u062c\\u0628\\u0643 \\u0641\\u064a \\u0647\\u0627 \\u0627\\u0644\\u0638\\u0631\\u0648\\u0641 \\u0627\\u0644\\u0635\\u0639\\u064a\\u0628\\u0629 \\u0623\\u0645\\u0627 \\u062e\\u0637\\u0627\\u0641 \\u0648\\u0627\\u062d\\u062f \\u0644\\u0627 \\u064a\\u0635\\u0646\\u0639 \\u0627\\u0644\\u0631\\u0628\\u064a\\u0639 \\u0645\\u0633\\u0624\\u0648\\u0644\\u064a\\u0629 \\u0627\\u0644\\u0642\\u0627\\u0626\\u062f \\u0627\\u0644\\u0643\\u0628\\u064a\\u0631\\u0629 \\u0647\\u064a \\u0641\\u064a \\u062d\\u0633\\u0646 \\u0627\\u062e\\u062a\\u064a\\u0627\\u0631\\u0648 \\u0644\\u0644\\u0645\\u0633\\u0624\\u0648\\u0644\\u064a\\u0646 \\u0641\\u064a \\u0645\\u062e\\u062a\\u0644\\u0641 \\u0627\\u0644\\u062f\\u0631\\u062c\\u0627\\u062a \\u0627\\u0644\\u0635\\u0631\\u0627\\u0645\\u0629 \\u0645\\u062a\\u0627\\u0639 \\u0627\\u0644\\u0645\\u0631\\u062d\\u0648\\u0645 \\u0627\\u0644\\u0647\\u0627\\u062f\\u0626 \\u0646\\u0648\\u064a\\u0631\\u0629 \\u0647\\u064a \\u0645\\u0641\\u062a\\u0627\\u062d \\u0646\\u062c\\u0627\\u062d \\u0628\\u0644\\u0627\\u062f\\u0646\\u0627 \\u0641\\u064a \\u0627\\u0644\\u0645\\u0631\\u062d\\u0644\\u0629 \\u0647\\u0627\\u0630\\u064a\"\n        ],\n        \"semantic_type\": \"\",\n        \"description\": \"\"\n      }\n    },\n    {\n      \"column\": \"label\",\n      \"properties\": {\n        \"dtype\": \"number\",\n        \"std\": 0,\n        \"min\": 0,\n        \"max\": 1,\n        \"num_unique_values\": 2,\n        \"samples\": [\n          1,\n          0\n        ],\n        \"semantic_type\": \"\",\n        \"description\": \"\"\n      }\n    },\n    {\n      \"column\": \"kfold\",\n      \"properties\": {\n        \"dtype\": \"number\",\n        \"std\": 1,\n        \"min\": 0,\n        \"max\": 4,\n        \"num_unique_values\": 5,\n        \"samples\": [\n          1,\n          2\n        ],\n        \"semantic_type\": \"\",\n        \"description\": \"\"\n      }\n    }\n  ]\n}"
            }
          },
          "metadata": {},
          "execution_count": 61
        }
      ],
      "source": [
        "#Validation data\n",
        "Validation_data = pd.read_csv('/content/drive/MyDrive/Colab Notebooks/ValidationMixedTunTox.csv')\n",
        "Validation_data.head()"
      ]
    },
    {
      "cell_type": "code",
      "execution_count": 62,
      "id": "0auUHRc2CRMG",
      "metadata": {
        "colab": {
          "base_uri": "https://localhost:8080/"
        },
        "id": "0auUHRc2CRMG",
        "outputId": "ff11c50a-2bf8-45b8-e985-a38e1faaa417"
      },
      "outputs": [
        {
          "output_type": "execute_result",
          "data": {
            "text/plain": [
              "(10042, 10042)"
            ]
          },
          "metadata": {},
          "execution_count": 62
        }
      ],
      "source": [
        "X_val=Validation_data['text']\n",
        "y_val=Validation_data['label']\n",
        "X_val.size,y_val.size"
      ]
    },
    {
      "cell_type": "code",
      "execution_count": 63,
      "id": "gQdlSzw6Xm-s",
      "metadata": {
        "colab": {
          "base_uri": "https://localhost:8080/"
        },
        "id": "gQdlSzw6Xm-s",
        "outputId": "30e2d8ce-da8e-452c-c718-eeae7da343a9"
      },
      "outputs": [
        {
          "output_type": "execute_result",
          "data": {
            "text/plain": [
              "(1187,)"
            ]
          },
          "metadata": {},
          "execution_count": 63
        }
      ],
      "source": [
        "validation_sequences = tokenizer.texts_to_sequences(Validation_data['text'])\n",
        "val_data = pad_sequences(validation_sequences, maxlen=1187,padding='post')\n",
        "val_label = pd.get_dummies(Validation_data['label']).values\n",
        "#\"jebna label\"\n",
        "val_data[35].shape"
      ]
    },
    {
      "cell_type": "code",
      "execution_count": 64,
      "id": "5H7R7cmPYstF",
      "metadata": {
        "colab": {
          "base_uri": "https://localhost:8080/"
        },
        "id": "5H7R7cmPYstF",
        "outputId": "9576124d-db0e-4e72-abcf-27c938899f00"
      },
      "outputs": [
        {
          "output_type": "execute_result",
          "data": {
            "text/plain": [
              "(95664, 1187)"
            ]
          },
          "metadata": {},
          "execution_count": 64
        }
      ],
      "source": [
        "train_data.shape"
      ]
    },
    {
      "cell_type": "markdown",
      "source": [
        "### Model fitting"
      ],
      "metadata": {
        "id": "Eh40iWSoj9iH"
      },
      "id": "Eh40iWSoj9iH"
    },
    {
      "cell_type": "code",
      "execution_count": 65,
      "id": "uhQ3FAIxq8dR",
      "metadata": {
        "colab": {
          "base_uri": "https://localhost:8080/"
        },
        "id": "uhQ3FAIxq8dR",
        "outputId": "9225a41f-768a-4aa3-b2e2-99ca4a3fbbbe"
      },
      "outputs": [
        {
          "output_type": "stream",
          "name": "stdout",
          "text": [
            "Epoch 1/3\n",
            "598/598 - 123s - loss: 0.6621 - Accuracy: 0.7910 - recall_: 0.7910 - precision_: 0.7910 - f1_score: 0.7910 - val_loss: 0.3159 - val_Accuracy: 0.8879 - val_recall_: 0.8879 - val_precision_: 0.8879 - val_f1_score: 0.8879 - 123s/epoch - 205ms/step\n",
            "Epoch 2/3\n",
            "598/598 - 99s - loss: 0.2051 - Accuracy: 0.9392 - recall_: 0.9392 - precision_: 0.9392 - f1_score: 0.9392 - val_loss: 0.2777 - val_Accuracy: 0.8983 - val_recall_: 0.8982 - val_precision_: 0.8982 - val_f1_score: 0.8982 - 99s/epoch - 166ms/step\n",
            "Epoch 3/3\n",
            "598/598 - 98s - loss: 0.1103 - Accuracy: 0.9738 - recall_: 0.9738 - precision_: 0.9738 - f1_score: 0.9738 - val_loss: 0.2987 - val_Accuracy: 0.8986 - val_recall_: 0.8986 - val_precision_: 0.8986 - val_f1_score: 0.8986 - 98s/epoch - 164ms/step\n"
          ]
        }
      ],
      "source": [
        "history =model.fit(train_data, training_label, epochs = 3, batch_size=128, validation_split=0.2,verbose=2) #3malna accuracy f1_score recall precision\n",
        "#history =model.fit(train_data, training_label, epochs = 3, batch_size=128, validation_split=0.2,callbacks=[early_stopping],verbose=2) #3malna accuracy f1_score recall precision"
      ]
    },
    {
      "cell_type": "markdown",
      "source": [
        "### Results"
      ],
      "metadata": {
        "id": "qRkkedtUkDq6"
      },
      "id": "qRkkedtUkDq6"
    },
    {
      "cell_type": "code",
      "execution_count": 66,
      "id": "Lzz3IfYftzL1",
      "metadata": {
        "colab": {
          "base_uri": "https://localhost:8080/",
          "height": 448
        },
        "id": "Lzz3IfYftzL1",
        "outputId": "f9b189fd-6b6b-483d-bd48-049a08aa26f5"
      },
      "outputs": [
        {
          "output_type": "display_data",
          "data": {
            "text/plain": [
              "<Figure size 640x480 with 1 Axes>"
            ],
            "image/png": "[encoded data removed]"
          },
          "metadata": {}
        }
      ],
      "source": [
        "import matplotlib.pyplot as plt\n",
        "\n",
        "plt.plot(history.history['Accuracy'],'b-')\n",
        "plt.plot(history.history['val_Accuracy'],'r-')\n",
        "\n",
        "plt.title('LSTM Training and Validation Accuracy')\n",
        "plt.ylabel('Accuracy')\n",
        "plt.xlabel('Epochs')\n",
        "plt.xticks(ticks=[])\n",
        "plt.yticks(ticks=[0.775,0.800,0.825,0.850,0.875,0.900,0.925,0.950],labels=[0.675,0.700,0.725,0.750,0.775,0.800,0.825,0.850])\n",
        "plt.legend(['Training Accurancy','Validation Accuracy'])\n",
        "plt.show()\n"
      ]
    },
    {
      "cell_type": "code",
      "execution_count": 67,
      "id": "FkCGDLscuL1z",
      "metadata": {
        "id": "FkCGDLscuL1z",
        "colab": {
          "base_uri": "https://localhost:8080/",
          "height": 448
        },
        "outputId": "e20e980b-2a1a-4059-ba71-7c3d4014a099"
      },
      "outputs": [
        {
          "output_type": "display_data",
          "data": {
            "text/plain": [
              "<Figure size 640x480 with 1 Axes>"
            ],
            "image/png": "[encoded data removed]"
          },
          "metadata": {}
        }
      ],
      "source": [
        "plt.plot(history.history['loss'],'b-')\n",
        "plt.plot(history.history['val_loss'],'r-')\n",
        "\n",
        "plt.title('LSTM Training and Validation Loss')\n",
        "plt.ylabel('Loss')\n",
        "plt.xlabel('Epochs')\n",
        "plt.xticks(ticks=[],  labels=[])\n",
        "plt.legend(['Training Loss','Validation Loss'], loc='upper left')\n",
        "plt.show()"
      ]
    },
    {
      "cell_type": "code",
      "execution_count": 68,
      "id": "Yc3AfsLtq8aO",
      "metadata": {
        "id": "Yc3AfsLtq8aO",
        "colab": {
          "base_uri": "https://localhost:8080/"
        },
        "outputId": "bf6c2595-3be1-498e-d958-2c0e65d03904"
      },
      "outputs": [
        {
          "output_type": "stream",
          "name": "stdout",
          "text": [
            "748/748 [==============================] - 26s 34ms/step - loss: 0.3699 - Accuracy: 0.8543 - recall_: 0.8543 - precision_: 0.8543 - f1_score: 0.8543\n",
            "Loss: 0.3698752820491791\n",
            "Test Accuracy: 0.8542816638946533\n",
            "Recall:  0.8543338179588318\n",
            "Percision:  0.8543338179588318\n",
            "F1score:  0.8543336987495422\n"
          ]
        }
      ],
      "source": [
        "from keras.utils import to_categorical\n",
        "\n",
        "# Convert labels to one-hot encoded format\n",
        "y_test_encoded = to_categorical(y_test)\n",
        "score = model.evaluate(X_test_padded, y_test_encoded, verbose=1)\n",
        "\n",
        "print(\"Loss:\", score[0])\n",
        "print(\"Test Accuracy:\", score[1])\n",
        "print(\"Recall: \", score[2])\n",
        "print(\"Percision: \", score[3])\n",
        "print(\"F1score: \", score[4])\n",
        "#testina bel exemple hay resultat najmou nzidouha fel etude comparati"
      ]
    },
    {
      "cell_type": "code",
      "source": [
        "X_test_padded.shape, y_test_encoded.shape\n"
      ],
      "metadata": {
        "colab": {
          "base_uri": "https://localhost:8080/"
        },
        "id": "zBoeOa6GhDIn",
        "outputId": "61c907ad-cd2d-4550-97e6-3ae2f92c2f38"
      },
      "id": "zBoeOa6GhDIn",
      "execution_count": 69,
      "outputs": [
        {
          "output_type": "execute_result",
          "data": {
            "text/plain": [
              "((23916, 1187), (23916, 2))"
            ]
          },
          "metadata": {},
          "execution_count": 69
        }
      ]
    },
    {
      "cell_type": "code",
      "execution_count": 70,
      "id": "o4HI0mbiyFDl",
      "metadata": {
        "id": "o4HI0mbiyFDl"
      },
      "outputs": [],
      "source": [
        "def predict(data):\n",
        "  data = tokenizer.texts_to_sequences(data)\n",
        "  data = pad_sequences(data, maxlen=1187,padding='post')\n",
        "  predic = model.predict(data,batch_size=1)\n",
        "  labels_t = ['This is a toxic comment','This is a non toxic comment']\n",
        "  print(labels_t[np.argmin(predic)])"
      ]
    },
    {
      "cell_type": "code",
      "execution_count": 71,
      "id": "iCd2eyoQ1cfr",
      "metadata": {
        "id": "iCd2eyoQ1cfr",
        "colab": {
          "base_uri": "https://localhost:8080/"
        },
        "outputId": "75e982c2-b367-450e-c960-b7715b370464"
      },
      "outputs": [
        {
          "output_type": "stream",
          "name": "stdout",
          "text": [
            "1/1 [==============================] - 1s 710ms/step\n",
            "This is a non toxic comment\n"
          ]
        }
      ],
      "source": [
        "data=['mama']\n",
        "predict(data)"
      ]
    },
    {
      "cell_type": "code",
      "execution_count": 72,
      "id": "wrJDYISTrPGp",
      "metadata": {
        "id": "wrJDYISTrPGp",
        "colab": {
          "base_uri": "https://localhost:8080/"
        },
        "outputId": "8637ae71-c519-460c-d7e9-1dd6c496ea43"
      },
      "outputs": [
        {
          "output_type": "stream",
          "name": "stdout",
          "text": [
            "1/1 [==============================] - 0s 39ms/step\n",
            "This is a toxic comment\n"
          ]
        }
      ],
      "source": [
        "data=['khayeb']\n",
        "predict(data)"
      ]
    },
    {
      "cell_type": "code",
      "execution_count": 73,
      "id": "9R7cJrD8ybxr",
      "metadata": {
        "id": "9R7cJrD8ybxr",
        "colab": {
          "base_uri": "https://localhost:8080/"
        },
        "outputId": "42fea86c-664d-4922-b58c-c56115e82bd7"
      },
      "outputs": [
        {
          "output_type": "stream",
          "name": "stdout",
          "text": [
            "187/187 [==============================] - 10s 52ms/step\n"
          ]
        }
      ],
      "source": [
        "pred = model.predict(X_test_padded,batch_size = 128)"
      ]
    },
    {
      "cell_type": "code",
      "execution_count": 74,
      "id": "PMxOPMDv52l0",
      "metadata": {
        "id": "PMxOPMDv52l0"
      },
      "outputs": [],
      "source": [
        "test_data = aux_test['text']\n",
        "test_id = aux_test['label']\n",
        "\n",
        "data_test = pd.DataFrame(data = {'id' : test_id ,'text': X_test['text'], 'negative' : pred[:,1] ,'Positive' : pred[:,0]  })"
      ]
    },
    {
      "cell_type": "code",
      "execution_count": 75,
      "id": "nlEGvRsx7M7u",
      "metadata": {
        "id": "nlEGvRsx7M7u",
        "colab": {
          "base_uri": "https://localhost:8080/",
          "height": 424
        },
        "outputId": "55a20ee1-cf3c-4ea8-a65e-198c0a9d4ce3"
      },
      "outputs": [
        {
          "output_type": "execute_result",
          "data": {
            "text/plain": [
              "        id                                               text      negative  \\\n",
              "60034    0  cha3eb kolo su wasel 9ayedt inti5abet nenta5ba...  2.061440e-03   \n",
              "40350    1                   hethak 3lech rakza ken 3la et7in  5.259098e-01   \n",
              "89192    0                                   اهلا منشيت كوراج  5.547551e-10   \n",
              "4467     0                                         bsam rou3a  1.602801e-02   \n",
              "119449   0                                              برافو  1.737523e-06   \n",
              "...     ..                                                ...           ...   \n",
              "56090    1                                       قناة الدعارة  9.996358e-01   \n",
              "65060    0  raou enase boujouha simeihim oujouhihim wabi7a...  1.055475e-03   \n",
              "112280   0  شنوة شديتو دوادي دوادي كان يحب يجي مرحبا و كان...  9.005882e-04   \n",
              "34060    0  takhdam lifriki bkol sadak maghir hsabete tobk...  7.628956e-04   \n",
              "26386    1  باللهي كيفاه جات هاري تو لي كليب ملول زبرو بلا...  1.495673e-01   \n",
              "\n",
              "        Positive  \n",
              "60034   0.997939  \n",
              "40350   0.474090  \n",
              "89192   1.000000  \n",
              "4467    0.983972  \n",
              "119449  0.999998  \n",
              "...          ...  \n",
              "56090   0.000364  \n",
              "65060   0.998945  \n",
              "112280  0.999099  \n",
              "34060   0.999237  \n",
              "26386   0.850433  \n",
              "\n",
              "[23916 rows x 4 columns]"
            ],
            "text/html": [
              "\n",
              "  <div id=\"df-82014d38-e00c-41e7-9c27-9a175230b1c0\" class=\"colab-df-container\">\n",
              "    <div>\n",
              "<style scoped>\n",
              "    .dataframe tbody tr th:only-of-type {\n",
              "        vertical-align: middle;\n",
              "    }\n",
              "\n",
              "    .dataframe tbody tr th {\n",
              "        vertical-align: top;\n",
              "    }\n",
              "\n",
              "    .dataframe thead th {\n",
              "        text-align: right;\n",
              "    }\n",
              "</style>\n",
              "<table border=\"1\" class=\"dataframe\">\n",
              "  <thead>\n",
              "    <tr style=\"text-align: right;\">\n",
              "      <th></th>\n",
              "      <th>id</th>\n",
              "      <th>text</th>\n",
              "      <th>negative</th>\n",
              "      <th>Positive</th>\n",
              "    </tr>\n",
              "  </thead>\n",
              "  <tbody>\n",
              "    <tr>\n",
              "      <th>60034</th>\n",
              "      <td>0</td>\n",
              "      <td>cha3eb kolo su wasel 9ayedt inti5abet nenta5ba...</td>\n",
              "      <td>2.061440e-03</td>\n",
              "      <td>0.997939</td>\n",
              "    </tr>\n",
              "    <tr>\n",
              "      <th>40350</th>\n",
              "      <td>1</td>\n",
              "      <td>hethak 3lech rakza ken 3la et7in</td>\n",
              "      <td>5.259098e-01</td>\n",
              "      <td>0.474090</td>\n",
              "    </tr>\n",
              "    <tr>\n",
              "      <th>89192</th>\n",
              "      <td>0</td>\n",
              "      <td>اهلا منشيت كوراج</td>\n",
              "      <td>5.547551e-10</td>\n",
              "      <td>1.000000</td>\n",
              "    </tr>\n",
              "    <tr>\n",
              "      <th>4467</th>\n",
              "      <td>0</td>\n",
              "      <td>bsam rou3a</td>\n",
              "      <td>1.602801e-02</td>\n",
              "      <td>0.983972</td>\n",
              "    </tr>\n",
              "    <tr>\n",
              "      <th>119449</th>\n",
              "      <td>0</td>\n",
              "      <td>برافو</td>\n",
              "      <td>1.737523e-06</td>\n",
              "      <td>0.999998</td>\n",
              "    </tr>\n",
              "    <tr>\n",
              "      <th>...</th>\n",
              "      <td>...</td>\n",
              "      <td>...</td>\n",
              "      <td>...</td>\n",
              "      <td>...</td>\n",
              "    </tr>\n",
              "    <tr>\n",
              "      <th>56090</th>\n",
              "      <td>1</td>\n",
              "      <td>قناة الدعارة</td>\n",
              "      <td>9.996358e-01</td>\n",
              "      <td>0.000364</td>\n",
              "    </tr>\n",
              "    <tr>\n",
              "      <th>65060</th>\n",
              "      <td>0</td>\n",
              "      <td>raou enase boujouha simeihim oujouhihim wabi7a...</td>\n",
              "      <td>1.055475e-03</td>\n",
              "      <td>0.998945</td>\n",
              "    </tr>\n",
              "    <tr>\n",
              "      <th>112280</th>\n",
              "      <td>0</td>\n",
              "      <td>شنوة شديتو دوادي دوادي كان يحب يجي مرحبا و كان...</td>\n",
              "      <td>9.005882e-04</td>\n",
              "      <td>0.999099</td>\n",
              "    </tr>\n",
              "    <tr>\n",
              "      <th>34060</th>\n",
              "      <td>0</td>\n",
              "      <td>takhdam lifriki bkol sadak maghir hsabete tobk...</td>\n",
              "      <td>7.628956e-04</td>\n",
              "      <td>0.999237</td>\n",
              "    </tr>\n",
              "    <tr>\n",
              "      <th>26386</th>\n",
              "      <td>1</td>\n",
              "      <td>باللهي كيفاه جات هاري تو لي كليب ملول زبرو بلا...</td>\n",
              "      <td>1.495673e-01</td>\n",
              "      <td>0.850433</td>\n",
              "    </tr>\n",
              "  </tbody>\n",
              "</table>\n",
              "<p>23916 rows × 4 columns</p>\n",
              "</div>\n",
              "    <div class=\"colab-df-buttons\">\n",
              "\n",
              "  <div class=\"colab-df-container\">\n",
              "    <button class=\"colab-df-convert\" onclick=\"convertToInteractive('df-82014d38-e00c-41e7-9c27-9a175230b1c0')\"\n",
              "            title=\"Convert this dataframe to an interactive table.\"\n",
              "            style=\"display:none;\">\n",
              "\n",
              "  <svg xmlns=\"http://www.w3.org/2000/svg\" height=\"24px\" viewBox=\"0 -960 960 960\">\n",
              "    <path d=\"M120-120v-720h720v720H120Zm60-500h600v-160H180v160Zm220 220h160v-160H400v160Zm0 220h160v-160H400v160ZM180-400h160v-160H180v160Zm440 0h160v-160H620v160ZM180-180h160v-160H180v160Zm440 0h160v-160H620v160Z\"/>\n",
              "  </svg>\n",
              "    </button>\n",
              "\n",
              "  <style>\n",
              "    .colab-df-container {\n",
              "      display:flex;\n",
              "      gap: 12px;\n",
              "    }\n",
              "\n",
              "    .colab-df-convert {\n",
              "      background-color: #E8F0FE;\n",
              "      border: none;\n",
              "      border-radius: 50%;\n",
              "      cursor: pointer;\n",
              "      display: none;\n",
              "      fill: #1967D2;\n",
              "      height: 32px;\n",
              "      padding: 0 0 0 0;\n",
              "      width: 32px;\n",
              "    }\n",
              "\n",
              "    .colab-df-convert:hover {\n",
              "      background-color: #E2EBFA;\n",
              "      box-shadow: 0px 1px 2px rgba(60, 64, 67, 0.3), 0px 1px 3px 1px rgba(60, 64, 67, 0.15);\n",
              "      fill: #174EA6;\n",
              "    }\n",
              "\n",
              "    .colab-df-buttons div {\n",
              "      margin-bottom: 4px;\n",
              "    }\n",
              "\n",
              "    [theme=dark] .colab-df-convert {\n",
              "      background-color: #3B4455;\n",
              "      fill: #D2E3FC;\n",
              "    }\n",
              "\n",
              "    [theme=dark] .colab-df-convert:hover {\n",
              "      background-color: #434B5C;\n",
              "      box-shadow: 0px 1px 3px 1px rgba(0, 0, 0, 0.15);\n",
              "      filter: drop-shadow(0px 1px 2px rgba(0, 0, 0, 0.3));\n",
              "      fill: #FFFFFF;\n",
              "    }\n",
              "  </style>\n",
              "\n",
              "    <script>\n",
              "      const buttonEl =\n",
              "        document.querySelector('#df-82014d38-e00c-41e7-9c27-9a175230b1c0 button.colab-df-convert');\n",
              "      buttonEl.style.display =\n",
              "        google.colab.kernel.accessAllowed ? 'block' : 'none';\n",
              "\n",
              "      async function convertToInteractive(key) {\n",
              "        const element = document.querySelector('#df-82014d38-e00c-41e7-9c27-9a175230b1c0');\n",
              "        const dataTable =\n",
              "          await google.colab.kernel.invokeFunction('convertToInteractive',\n",
              "                                                    [key], {});\n",
              "        if (!dataTable) return;\n",
              "\n",
              "        const docLinkHtml = 'Like what you see? Visit the ' +\n",
              "          '<a target=\"_blank\" href=https://colab.research.google.com/notebooks/data_table.ipynb>data table notebook</a>'\n",
              "          + ' to learn more about interactive tables.';\n",
              "        element.innerHTML = '';\n",
              "        dataTable['output_type'] = 'display_data';\n",
              "        await google.colab.output.renderOutput(dataTable, element);\n",
              "        const docLink = document.createElement('div');\n",
              "        docLink.innerHTML = docLinkHtml;\n",
              "        element.appendChild(docLink);\n",
              "      }\n",
              "    </script>\n",
              "  </div>\n",
              "\n",
              "\n",
              "<div id=\"df-52b7972a-d69c-4f93-89db-0a4b5278149f\">\n",
              "  <button class=\"colab-df-quickchart\" onclick=\"quickchart('df-52b7972a-d69c-4f93-89db-0a4b5278149f')\"\n",
              "            title=\"Suggest charts\"\n",
              "            style=\"display:none;\">\n",
              "\n",
              "<svg xmlns=\"http://www.w3.org/2000/svg\" height=\"24px\"viewBox=\"0 0 24 24\"\n",
              "     width=\"24px\">\n",
              "    <g>\n",
              "        <path d=\"M19 3H5c-1.1 0-2 .9-2 2v14c0 1.1.9 2 2 2h14c1.1 0 2-.9 2-2V5c0-1.1-.9-2-2-2zM9 17H7v-7h2v7zm4 0h-2V7h2v10zm4 0h-2v-4h2v4z\"/>\n",
              "    </g>\n",
              "</svg>\n",
              "  </button>\n",
              "\n",
              "<style>\n",
              "  .colab-df-quickchart {\n",
              "      --bg-color: #E8F0FE;\n",
              "      --fill-color: #1967D2;\n",
              "      --hover-bg-color: #E2EBFA;\n",
              "      --hover-fill-color: #174EA6;\n",
              "      --disabled-fill-color: #AAA;\n",
              "      --disabled-bg-color: #DDD;\n",
              "  }\n",
              "\n",
              "  [theme=dark] .colab-df-quickchart {\n",
              "      --bg-color: #3B4455;\n",
              "      --fill-color: #D2E3FC;\n",
              "      --hover-bg-color: #434B5C;\n",
              "      --hover-fill-color: #FFFFFF;\n",
              "      --disabled-bg-color: #3B4455;\n",
              "      --disabled-fill-color: #666;\n",
              "  }\n",
              "\n",
              "  .colab-df-quickchart {\n",
              "    background-color: var(--bg-color);\n",
              "    border: none;\n",
              "    border-radius: 50%;\n",
              "    cursor: pointer;\n",
              "    display: none;\n",
              "    fill: var(--fill-color);\n",
              "    height: 32px;\n",
              "    padding: 0;\n",
              "    width: 32px;\n",
              "  }\n",
              "\n",
              "  .colab-df-quickchart:hover {\n",
              "    background-color: var(--hover-bg-color);\n",
              "    box-shadow: 0 1px 2px rgba(60, 64, 67, 0.3), 0 1px 3px 1px rgba(60, 64, 67, 0.15);\n",
              "    fill: var(--button-hover-fill-color);\n",
              "  }\n",
              "\n",
              "  .colab-df-quickchart-complete:disabled,\n",
              "  .colab-df-quickchart-complete:disabled:hover {\n",
              "    background-color: var(--disabled-bg-color);\n",
              "    fill: var(--disabled-fill-color);\n",
              "    box-shadow: none;\n",
              "  }\n",
              "\n",
              "  .colab-df-spinner {\n",
              "    border: 2px solid var(--fill-color);\n",
              "    border-color: transparent;\n",
              "    border-bottom-color: var(--fill-color);\n",
              "    animation:\n",
              "      spin 1s steps(1) infinite;\n",
              "  }\n",
              "\n",
              "  @keyframes spin {\n",
              "    0% {\n",
              "      border-color: transparent;\n",
              "      border-bottom-color: var(--fill-color);\n",
              "      border-left-color: var(--fill-color);\n",
              "    }\n",
              "    20% {\n",
              "      border-color: transparent;\n",
              "      border-left-color: var(--fill-color);\n",
              "      border-top-color: var(--fill-color);\n",
              "    }\n",
              "    30% {\n",
              "      border-color: transparent;\n",
              "      border-left-color: var(--fill-color);\n",
              "      border-top-color: var(--fill-color);\n",
              "      border-right-color: var(--fill-color);\n",
              "    }\n",
              "    40% {\n",
              "      border-color: transparent;\n",
              "      border-right-color: var(--fill-color);\n",
              "      border-top-color: var(--fill-color);\n",
              "    }\n",
              "    60% {\n",
              "      border-color: transparent;\n",
              "      border-right-color: var(--fill-color);\n",
              "    }\n",
              "    80% {\n",
              "      border-color: transparent;\n",
              "      border-right-color: var(--fill-color);\n",
              "      border-bottom-color: var(--fill-color);\n",
              "    }\n",
              "    90% {\n",
              "      border-color: transparent;\n",
              "      border-bottom-color: var(--fill-color);\n",
              "    }\n",
              "  }\n",
              "</style>\n",
              "\n",
              "  <script>\n",
              "    async function quickchart(key) {\n",
              "      const quickchartButtonEl =\n",
              "        document.querySelector('#' + key + ' button');\n",
              "      quickchartButtonEl.disabled = true;  // To prevent multiple clicks.\n",
              "      quickchartButtonEl.classList.add('colab-df-spinner');\n",
              "      try {\n",
              "        const charts = await google.colab.kernel.invokeFunction(\n",
              "            'suggestCharts', [key], {});\n",
              "      } catch (error) {\n",
              "        console.error('Error during call to suggestCharts:', error);\n",
              "      }\n",
              "      quickchartButtonEl.classList.remove('colab-df-spinner');\n",
              "      quickchartButtonEl.classList.add('colab-df-quickchart-complete');\n",
              "    }\n",
              "    (() => {\n",
              "      let quickchartButtonEl =\n",
              "        document.querySelector('#df-52b7972a-d69c-4f93-89db-0a4b5278149f button');\n",
              "      quickchartButtonEl.style.display =\n",
              "        google.colab.kernel.accessAllowed ? 'block' : 'none';\n",
              "    })();\n",
              "  </script>\n",
              "</div>\n",
              "    </div>\n",
              "  </div>\n"
            ],
            "application/vnd.google.colaboratory.intrinsic+json": {
              "type": "dataframe",
              "variable_name": "data_test",
              "summary": "{\n  \"name\": \"data_test\",\n  \"rows\": 23916,\n  \"fields\": [\n    {\n      \"column\": \"id\",\n      \"properties\": {\n        \"dtype\": \"number\",\n        \"std\": 0,\n        \"min\": 0,\n        \"max\": 1,\n        \"num_unique_values\": 2,\n        \"samples\": [\n          1,\n          0\n        ],\n        \"semantic_type\": \"\",\n        \"description\": \"\"\n      }\n    },\n    {\n      \"column\": \"text\",\n      \"properties\": {\n        \"dtype\": \"string\",\n        \"num_unique_values\": 21522,\n        \"samples\": [\n          \"\\u0628\\u0643\\u0627\\u062a\\u0646\\u064a \\u0628\\u0631\\u0627\\u0641\\u0648\",\n          \"\\u0625\\u0644\\u064a \\u0627\\u0644\\u0623\\u0645\\u0627\\u0645 \\u0627\\u0644\\u0634\\u0639\\u0628 \\u0645\\u0639\\u0627\\u0643 \\u0634\\u064a\\u0628\\u0627 \\u0648 \\u0634\\u0628\\u0627\\u0628 \\u0646\\u0633\\u0627\\u0621 \\u0648 \\u0631\\u062c\\u0627\\u0644 \\u0645\\u0646 \\u0627\\u0644\\u064a\\u0645\\u064a\\u0646 \\u0627\\u0644\\u064a \\u0627\\u0644\\u064a\\u0633\\u0627\\u0631 \\u0648\\u0641\\u0642\\u0643 \\u0627\\u0644\\u0644\\u0647\"\n        ],\n        \"semantic_type\": \"\",\n        \"description\": \"\"\n      }\n    },\n    {\n      \"column\": \"negative\",\n      \"properties\": {\n        \"dtype\": \"float32\",\n        \"num_unique_values\": 18092,\n        \"samples\": [\n          0.0006123979110270739,\n          0.9949138164520264\n        ],\n        \"semantic_type\": \"\",\n        \"description\": \"\"\n      }\n    },\n    {\n      \"column\": \"Positive\",\n      \"properties\": {\n        \"dtype\": \"float32\",\n        \"num_unique_values\": 16342,\n        \"samples\": [\n          0.21340063214302063,\n          0.9996507167816162\n        ],\n        \"semantic_type\": \"\",\n        \"description\": \"\"\n      }\n    }\n  ]\n}"
            }
          },
          "metadata": {},
          "execution_count": 75
        }
      ],
      "source": [
        "data_test"
      ]
    },
    {
      "cell_type": "code",
      "execution_count": null,
      "id": "pawqFN_3Sg-o",
      "metadata": {
        "id": "pawqFN_3Sg-o"
      },
      "outputs": [],
      "source": [
        "\"\"\"# Définissez le chemin de sauvegarde pour votre modèle\n",
        "save_path = \"/content/my_models/\"\n",
        "\n",
        "# Créez le répertoire pour sauvegarder les modèles si nécessaire\n",
        "os.makedirs(save_path, exist_ok=True)\n",
        "\n",
        "# Sauvegardez votre modèle\n",
        "model.save(os.path.join(save_path, 'my_model.h5'))"
      ]
    }
  ],
  "metadata": {
    "colab": {
      "provenance": [],
      "gpuType": "T4",
      "collapsed_sections": [
        "9O4VSM88z8pl",
        "53yZldXBz8p2"
      ]
    },
    "kernelspec": {
      "display_name": "Python 3",
      "name": "python3"
    },
    "language_info": {
      "codemirror_mode": {
        "name": "ipython",
        "version": 3
      },
      "file_extension": ".py",
      "mimetype": "text/x-python",
      "name": "python",
      "nbconvert_exporter": "python",
      "pygments_lexer": "ipython3",
      "version": "3.8.5"
    },
    "accelerator": "GPU"
  },
  "nbformat": 4,
  "nbformat_minor": 5
}